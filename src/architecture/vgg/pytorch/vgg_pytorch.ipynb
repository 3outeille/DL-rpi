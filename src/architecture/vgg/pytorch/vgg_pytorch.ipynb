{
 "cells": [
  {
   "cell_type": "markdown",
   "metadata": {},
   "source": [
    "# I) Summary"
   ]
  },
  {
   "cell_type": "markdown",
   "metadata": {},
   "source": [
    "- The paper [Very Deep Convolutional Networks for Large-Scale Image Recognition][vgg-paper] introduces a familly of ConvNets called VGGNet.\n",
    "\n",
    "- During ILSVLC-2014, they achieved 2nd place at the classification task (top-5 test error = 7.3%)\n",
    "\n",
    "- They demonstrated that depth is beneficial for the classification accuracy.\n",
    "\n",
    "- In spite of its large depth, the number of weights is not greater than number of weights in a more shallow net with larger conv.\n",
    "\n",
    "- VGGNet uses a smaller receptive field (3x3 stride 1) contrary to AlexNet (11x11 with stride 4) and ZFNet (7x7 stride 2).\n",
    "\n",
    "--- \n",
    "\n",
    "VGG architecture:\n",
    "\n",
    "- Input size 224x224x3 (RGB image).\n",
    "- Preprocessing done by substracting training set RGB mean.\n",
    "- Filters size 3x3.\n",
    "- Convolutional layers:\n",
    "    - stride 1.\n",
    "    - padding 1 (3x4 conv layers).\n",
    "    - ReLU or LRN for one of the config.  \n",
    "    - followed by 5 max pooling layers (not all of them).\n",
    "        - 2x2 window.\n",
    "        - stride = 2.\n",
    "- Fully-connected layers:\n",
    "    - 1st: 4096 (ReLU).\n",
    "    - 2nd: 4096 (ReLU).\n",
    "    - 3rd: 100 (Softmax).\n",
    " \n",
    "\n",
    "VGGNet configurations:\n",
    "\n",
    "- VGG-11\n",
    "- VGG-11 (LRN)\n",
    "- VGG-13\n",
    "- VGG-16 (Conv1)\n",
    "- VGG-16\n",
    "- VGG-19 \n",
    "\n",
    "![figure-1]\n",
    "\n",
    "[vgg-paper]: https://arxiv.org/pdf/1409.1556.pdf\n",
    "[figure-1]: https://cdn.discordapp.com/attachments/676833120053493770/688707846220939294/unknown.png"
   ]
  },
  {
   "cell_type": "markdown",
   "metadata": {},
   "source": [
    "# II) Implementation"
   ]
  },
  {
   "cell_type": "markdown",
   "metadata": {},
   "source": [
    "We are going to implement VGG-16."
   ]
  },
  {
   "cell_type": "markdown",
   "metadata": {},
   "source": [
    "## a) Architecture build"
   ]
  },
  {
   "cell_type": "code",
   "execution_count": null,
   "metadata": {},
   "outputs": [],
   "source": []
  },
  {
   "cell_type": "markdown",
   "metadata": {},
   "source": [
    "## b) Loading pretrained model"
   ]
  },
  {
   "cell_type": "code",
   "execution_count": null,
   "metadata": {},
   "outputs": [],
   "source": []
  },
  {
   "cell_type": "markdown",
   "metadata": {},
   "source": [
    "## c) Evaluating"
   ]
  },
  {
   "cell_type": "code",
   "execution_count": null,
   "metadata": {},
   "outputs": [],
   "source": []
  }
 ],
 "metadata": {
  "kernelspec": {
   "display_name": "pytorch",
   "language": "python",
   "name": "pytorch"
  },
  "language_info": {
   "codemirror_mode": {
    "name": "ipython",
    "version": 3
   },
   "file_extension": ".py",
   "mimetype": "text/x-python",
   "name": "python",
   "nbconvert_exporter": "python",
   "pygments_lexer": "ipython3",
   "version": "3.6.8"
  }
 },
 "nbformat": 4,
 "nbformat_minor": 2
}
