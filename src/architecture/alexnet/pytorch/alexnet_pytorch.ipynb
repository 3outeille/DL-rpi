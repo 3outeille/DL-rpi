{
 "cells": [
  {
   "cell_type": "markdown",
   "metadata": {},
   "source": [
    "# I) Summary"
   ]
  },
  {
   "cell_type": "markdown",
   "metadata": {},
   "source": [
    "**DISCLAIMER**: We will use the weights of a pretained model."
   ]
  },
  {
   "cell_type": "markdown",
   "metadata": {},
   "source": [
    "AlexNet architecture:\n",
    "\n",
    "- **5 Convolutional layers**.\n",
    "- **3 Fully connected layers**.\n",
    "- **3 Overlapping Max pooling layers**.\n",
    "- **ReLU** as activation function for hidden layer.\n",
    "\n",
    "    - Avoid vanishing gradients for positive values.\n",
    "    - More computationally efficient to compute than sigmoid and tanh.\n",
    "    - Better convergence performance than sigmoid and tanh.\n",
    "\n",
    "- **Softmax** as activation function for output layer.\n",
    "- **60,000,000 trainable parameters**.\n",
    "- **Cross-entropy** as cost function\n",
    "- **Mini-batch gradient descent with Momentum optimizer**.\n",
    "    - Batch size : 128.\n",
    "    - Momentum = 0.9.\n",
    "    - Weight decay = 0.0005.\n",
    "    - Learning rate: 0.01. Equal learning rate for all layers and diving by 10 when validation error stopped  improving.\n",
    "- **Local Response Normalization** \n",
    "    - it helps with generalization.\n",
    "\n",
    "--- \n",
    "\n",
    "AlexNet details:\n",
    "\n",
    "- Trained with ILSVRC-2010 dataset (1.2 million training images, 50,000 validation images, and 150,000 testing images.).\n",
    "- Trained on **90 epochs**.\n",
    "- **Weight initialization**: zero-mean Gaussian distribution and a standard deviation of 0.01.\n",
    "- **Bias initialization**: 1 for 2nd/4th/5th conv layers and all fully-connected layers and 0 for remaining layers.\n",
    "\n",
    "--- \n",
    "\n",
    "AlexNet inputs:\n",
    "\n",
    "- **RGB image of size 256 x 256**. If not, training/test set images need to be resized.\n",
    "   - Example: image_size = 1024 x 500 => Smaller dimension is resized to 256 and resulting image is cropped  to obtain a 256 x 256 image.\n",
    " \n",
    "- the RGB image of size 256 x 256 will then be **cropped into 227 x 227** (cf Data Augmentation part). The paper mistakenly says 224 x 224.\n",
    "\n",
    "--- \n",
    "\n",
    "AlexNet is proned to overfit, thus to prevent that:\n",
    "\n",
    "- **Dropout**.\n",
    "    - 50% dropout rate.\n",
    "- **Data Augmentation**.\n",
    "    - **Translations and horizontal reflections (mirroring)**: Extract random 227 x 227 crops from 256 x 256 images.\n",
    "        - Translation on 1 image: (256−227)∗(256−227) = 841 possible images.\n",
    "        - Mirroring : x2 the training set size.\n",
    "        - New training set size = 1.2 millions * 2 * 841 = 1.2 millions * 1682 images.\n",
    "    - **Altering the intensities of RGB channels**: performing PCA on the set of RGB pixel values throughout the ImageNet training set. Doing this approximately captures an important property of natural images: object identity is invariant to changes in the intensity and color of the illumination.\n",
    "\n",
    "**Remark**:\n",
    "\n",
    "- According to the paper, they only trained on 1.2 millions training data without using data augmentation. The reason is the following:\n",
    "    - Suppose they could get 0.001s per forward/backward pass. It will take (0.001 * 1,200,000 * 1682 * 90) / (60 * 60 * 24 * 365) ~= **5.7 years** to train the model.\n"
   ]
  },
  {
   "cell_type": "markdown",
   "metadata": {},
   "source": [
    "![legend](../../img/legend.png)"
   ]
  },
  {
   "cell_type": "markdown",
   "metadata": {},
   "source": [
    "![AlexNet model](../../img/alexnet-model.png)"
   ]
  },
  {
   "cell_type": "markdown",
   "metadata": {},
   "source": [
    "# II) Implementation"
   ]
  },
  {
   "cell_type": "code",
   "execution_count": 4,
   "metadata": {},
   "outputs": [],
   "source": [
    "import torch\n",
    "import torch.nn as nn\n",
    "from torch.utils.data import DataLoader, random_split\n",
    "from torchvision import transforms, datasets\n",
    "import torch.optim as optim\n",
    "import numpy as np\n",
    "import matplotlib.pyplot as plt\n",
    "%matplotlib inline"
   ]
  },
  {
   "cell_type": "markdown",
   "metadata": {},
   "source": [
    "## c) Architecture build"
   ]
  },
  {
   "cell_type": "code",
   "execution_count": 5,
   "metadata": {},
   "outputs": [],
   "source": [
    "class AlexNet(nn.Module):\n",
    "    \n",
    "    def __init__(self):\n",
    "        super(AlexNet, self).__init__()\n",
    "        \n",
    "        self.convolution = nn.Sequential(\n",
    "            nn.Conv2d(in_channels=3, out_channels=96, kernel_size=11, stride=4),\n",
    "            nn.ReLU(inplace=True),\n",
    "            nn.LocalResponseNorm(size=5, alpha=0.0001, beta=0.75),\n",
    "            nn.MaxPool2d(kernel_size=3, stride=2),\n",
    "            nn.Conv2d(in_channels=96, out_channels=256, kernel_size=5, padding=2),\n",
    "            nn.ReLU(inplace=True),\n",
    "            nn.LocalResponseNorm(size=5, alpha=0.0001, beta=0.75),\n",
    "            nn.MaxPool2d(kernel_size=3, stride=2),\n",
    "            nn.Conv2d(in_channels=256, out_channels=384, kernel_size=3, padding=1),\n",
    "            nn.ReLU(inplace=True),\n",
    "            nn.Conv2d(in_channels=384, out_channels=384, kernel_size=3, padding=1),\n",
    "            nn.ReLU(inplace=True),\n",
    "            nn.Conv2d(in_channels=384, out_channels=256, kernel_size=3, padding=1),\n",
    "            nn.ReLU(inplace=True),\n",
    "            nn.MaxPool2d(kernel_size=3, stride=2),\n",
    "        )\n",
    "        self.fully_connected = nn.Sequential(\n",
    "            nn.Linear(256 * 6 * 6, 4096),\n",
    "            nn.ReLU(inplace=True),\n",
    "            nn.Dropout(p=0.5),\n",
    "            nn.Linear(4096, 4096),\n",
    "            nn.ReLU(inplace=True),\n",
    "            nn.Dropout(p=0.5),\n",
    "            nn.Linear(4096, 1000),\n",
    "        )\n",
    "\n",
    "    def forward(self, x):\n",
    "        x = self.convolution(x)\n",
    "        x = x.view(x.shape[0], 256 * 6 * 6)\n",
    "        x = self.fully_connected(x)\n",
    "        return x"
   ]
  },
  {
   "cell_type": "code",
   "execution_count": null,
   "metadata": {},
   "outputs": [],
   "source": []
  }
 ],
 "metadata": {
  "kernelspec": {
   "display_name": "pytorch",
   "language": "python",
   "name": "pytorch"
  },
  "language_info": {
   "codemirror_mode": {
    "name": "ipython",
    "version": 3
   },
   "file_extension": ".py",
   "mimetype": "text/x-python",
   "name": "python",
   "nbconvert_exporter": "python",
   "pygments_lexer": "ipython3",
   "version": "3.6.8"
  }
 },
 "nbformat": 4,
 "nbformat_minor": 2
}
