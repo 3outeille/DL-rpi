{
 "cells": [
  {
   "cell_type": "markdown",
   "metadata": {},
   "source": [
    "# I) Summary"
   ]
  },
  {
   "cell_type": "markdown",
   "metadata": {},
   "source": [
    "- The paper [Going Deeper with Convolutions][paper] introduces the first version of Inception model called GoogLeNet.\n",
    "\n",
    "- During ILSVLC-2014, they achieved 1st place at the classification task (top-5 test error = 6.67%)\n",
    "\n",
    "- It has around 6.7977 million parameters which is 9x fewer than AlexNet (ILSVRC-2012 winner) and 20x fewer than its competitor VGG-16.\n",
    "\n",
    "\n",
    "- In most of the standard network architectures, the intuition is not clear why and when to perform the max-pooling operation, when to use the convolutional operation. For example, in AlextNet we have the convolutional operation and max-pooling operation following each other whereas in VGGNet, we have 3 convolutional operations in a row and then 1 max-pooling layer.\n",
    "\n",
    "Thus, the idea behind GoogLeNet is to use all the operations at the same time. It computes multiple kernels of different size over the same input map in parallel, concatenating their results into a single output. \n",
    "\n",
    "<div style=\"text-align: center\">\n",
    "    <img src=\"https://cdn.discordapp.com/attachments/676833120053493770/689776141221101629/unknown.png\"\n",
    "         height=\"100%\" width=\"100%\">\n",
    "</div>\n",
    "\n",
    "\n",
    "\n",
    "[paper]: https://arxiv.org/pdf/1409.4842.pdf"
   ]
  },
  {
   "cell_type": "code",
   "execution_count": null,
   "metadata": {},
   "outputs": [],
   "source": []
  }
 ],
 "metadata": {
  "kernelspec": {
   "display_name": "pytorch",
   "language": "python",
   "name": "pytorch"
  },
  "language_info": {
   "codemirror_mode": {
    "name": "ipython",
    "version": 3
   },
   "file_extension": ".py",
   "mimetype": "text/x-python",
   "name": "python",
   "nbconvert_exporter": "python",
   "pygments_lexer": "ipython3",
   "version": "3.6.8"
  }
 },
 "nbformat": 4,
 "nbformat_minor": 2
}
