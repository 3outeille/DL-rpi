{
 "cells": [
  {
   "cell_type": "markdown",
   "metadata": {},
   "source": [
    "# I) Summary"
   ]
  },
  {
   "cell_type": "markdown",
   "metadata": {},
   "source": [
    "**DISCLAIMER**: We will use a simplier version of the LeNet-5 than the one in the [paper](http://yann.lecun.com/exdb/publis/pdf/lecun-01a.pdf). (For example, computation on average pooling layers described in the paper are slightly more complex than usual)."
   ]
  },
  {
   "cell_type": "markdown",
   "metadata": {},
   "source": [
    "LeNet-5 has:\n",
    "\n",
    "- 2 Convolutional layers.\n",
    "- 3 Fully connected layers.\n",
    "- 2 Average pooling layers.\n",
    "- Tanh as activation function for hidden layer.\n",
    "- Softmax as activation function for output layer.\n",
    "- 60000 trainable parameters.\n",
    "- Cross-entropy as cost function\n",
    "- Gradient descent as optimizer.\n",
    "LeNet-5 is:\n",
    "\n",
    "- trained on MNIST dataset (60000 training examples).\n",
    "- trained over 20 epoch.\n",
    "\n",
    "LeNet-5 is expected to:\n",
    "- converge after 10-12 epoch.\n",
    "- have an error rate of 0.95% on test set. (Using accuracy as metric)"
   ]
  },
  {
   "cell_type": "markdown",
   "metadata": {},
   "source": [
    "![legend](https://raw.githubusercontent.com/valoxe/image-storage-1/master/research-paper-summary/lenet-5/1.png?token=AMAXSKLJBVOSPMSU55IWKJS6WMJCO)\n",
    "![LeNet-5 model](https://raw.githubusercontent.com/valoxe/image-storage-1/master/research-paper-summary/lenet-5/2.png?token=AMAXSKN5CCFXIY7MGZTFBOK6WMJDC)"
   ]
  },
  {
   "cell_type": "markdown",
   "metadata": {},
   "source": [
    "# II) Implementation"
   ]
  },
  {
   "cell_type": "code",
   "execution_count": 1,
   "metadata": {
    "scrolled": true
   },
   "outputs": [],
   "source": [
    "import numpy as np\n",
    "import matplotlib.pyplot as plt\n",
    "import tensorflow as tf\n",
    "%matplotlib inline"
   ]
  },
  {
   "cell_type": "markdown",
   "metadata": {},
   "source": [
    "## a) Loading dataset"
   ]
  },
  {
   "cell_type": "code",
   "execution_count": 53,
   "metadata": {},
   "outputs": [
    {
     "name": "stdout",
     "output_type": "stream",
     "text": [
      "Image Shape: (28, 28, 1)\n",
      "\n",
      "Training Set:   55000 samples\n",
      "Validation Set:   5000 samples\n",
      "Test Set:       10000 samples\n"
     ]
    }
   ],
   "source": [
    "(X_train, y_train), (X_test, y_test) = tf.keras.datasets.mnist.load_data()\n",
    "X_val, y_val = X_train[55000:, ..., np.newaxis], y_train[55000:]\n",
    "X_train, y_train = X_train[:55000, ..., np.newaxis], y_train[:55000]\n",
    "X_test =  X_test[..., np.newaxis]\n",
    "\n",
    "print(\"Image Shape: {}\".format(X_train[0].shape), end = '\\n\\n')\n",
    "print(\"Training Set:   {} samples\".format(len(X_train)))\n",
    "print(\"Validation Set:   {} samples\".format(len(X_val)))\n",
    "print(\"Test Set:       {} samples\".format(len(X_test)))"
   ]
  },
  {
   "cell_type": "markdown",
   "metadata": {},
   "source": [
    "## b) Preprocessing"
   ]
  },
  {
   "cell_type": "markdown",
   "metadata": {},
   "source": [
    "We need to:\n",
    "\n",
    "- reshape the image into a 32x32x1 shape.\n",
    "- normalize the dataset."
   ]
  },
  {
   "cell_type": "code",
   "execution_count": 54,
   "metadata": {},
   "outputs": [
    {
     "name": "stdout",
     "output_type": "stream",
     "text": [
      "Updated Image Shape for: \n",
      "\n",
      "-Training set: (55000, 32, 32, 1)\n",
      "-Validation set: (5000, 32, 32, 1)\n",
      "-Test set: (10000, 32, 32, 1)\n"
     ]
    }
   ],
   "source": [
    "# Pad images with 0s\n",
    "X_train = np.pad(X_train, ((0,0),(2,2),(2,2),(0,0)), 'constant')\n",
    "X_val = np.pad(X_val, ((0,0),(2,2),(2,2),(0,0)), 'constant')\n",
    "X_test = np.pad(X_test, ((0,0),(2,2),(2,2),(0,0)), 'constant')\n",
    "\n",
    "print(\"Updated Image Shape for: \", end='\\n\\n')\n",
    "print(\"-Training set: {}\".format(X_train.shape))\n",
    "print(\"-Validation set: {}\".format(X_val.shape))\n",
    "print(\"-Test set: {}\".format(X_test.shape))"
   ]
  },
  {
   "cell_type": "code",
   "execution_count": 55,
   "metadata": {},
   "outputs": [],
   "source": [
    "# Normalization.\n",
    "X_train, X_val, X_test = X_train/float(255), X_val/float(255), X_test/float(255)\n",
    "X_train -= np.mean(X_train)\n",
    "X_val -= np.mean(X_val)\n",
    "X_test -= np.mean(X_test)"
   ]
  },
  {
   "cell_type": "markdown",
   "metadata": {},
   "source": [
    "## c) Visualization"
   ]
  },
  {
   "cell_type": "code",
   "execution_count": 56,
   "metadata": {},
   "outputs": [],
   "source": [
    "def plot_example(X, y, y_pred=None):\n",
    "    \"\"\"\n",
    "        Plots 9 examples and their associate labels.\n",
    "        \n",
    "        Parameters:\n",
    "        -X: Training examples.\n",
    "        -y: true labels.\n",
    "        -y_pred: predicted labels.\n",
    "    \"\"\"\n",
    "    # Create figure with 3 x 3 sub-plots.\n",
    "    fig, axes = plt.subplots(3, 3)\n",
    "    fig.subplots_adjust(hspace=0.3, wspace=0.3)\n",
    "     \n",
    "    X, y = X[:9, ..., 0], y[:9] \n",
    "    \n",
    "    for i, ax in enumerate(axes.flat):\n",
    "        # Plot image.\n",
    "        ax.imshow(X[i])\n",
    "\n",
    "        # Show true and predicted classes.\n",
    "        if y_pred is None:\n",
    "            xlabel = \"True: {0}\".format(y[i])\n",
    "        else:\n",
    "            xlabel = \"True: {0}, Pred: {1}\".format(y[i], y_pred[i])\n",
    "\n",
    "        # Show the classes as the label on the x-axis.\n",
    "        ax.set_xlabel(xlabel)\n",
    "        \n",
    "        # Remove ticks from the plot.\n",
    "        ax.set_xticks([])\n",
    "        ax.set_yticks([])\n",
    "    \n",
    "    # Ensure the plot is shown correctly with multiple plots in a single Notebook cell.\n",
    "    plt.show()"
   ]
  },
  {
   "cell_type": "code",
   "execution_count": 57,
   "metadata": {},
   "outputs": [],
   "source": [
    "def plot_example_errors(X, y, y_pred):\n",
    "    \"\"\"\n",
    "        Plots 9 example errors and their associate true/predicted labels.\n",
    "        \n",
    "        Parameters:\n",
    "        -X: Training examples.\n",
    "        -y: true labels.\n",
    "        -y_pred: predicted labels.\n",
    "    \n",
    "    \"\"\"\n",
    "    incorrect = (y != y_pred)\n",
    " \n",
    "    X = X[incorrect]\n",
    "    y = y[incorrect]\n",
    "    y_pred = y_pred[incorrect]\n",
    "    \n",
    "    # Plot the first 9 images.\n",
    "    plot_example(X, y, y_pred)"
   ]
  },
  {
   "cell_type": "code",
   "execution_count": 58,
   "metadata": {},
   "outputs": [
    {
     "data": {
      "image/png": "[encoded data removed]",
      "text/plain": [
       "<Figure size 432x288 with 9 Axes>"
      ]
     },
     "metadata": {},
     "output_type": "display_data"
    }
   ],
   "source": [
    "plot_example(X_train, y_train)"
   ]
  },
  {
   "cell_type": "markdown",
   "metadata": {},
   "source": [
    "## d) Architecture build"
   ]
  },
  {
   "cell_type": "code",
   "execution_count": 59,
   "metadata": {},
   "outputs": [],
   "source": [
    "def create_placeholders():\n",
    "    \"\"\"\n",
    "        Creates the placeholders for the tensorflow session.\n",
    "        \n",
    "        Returns:\n",
    "        -X: placeholder for the data input of shape [None, 32, 32, 1] and dtype \"float\".\n",
    "        -y: placeholder for the input labels of shape [None] and dtype \"float\".\n",
    "    \"\"\"\n",
    "    X = tf.placeholder(tf.float32, (None, 32, 32, 1), name='X')\n",
    "    y = tf.placeholder(tf.int32, (None), name='labels')\n",
    "\n",
    "    return X, y"
   ]
  },
  {
   "cell_type": "code",
   "execution_count": 60,
   "metadata": {},
   "outputs": [],
   "source": [
    "def initialize_parameters():\n",
    "    \"\"\"\n",
    "        Initializes weights and biases parameters using xavier initialization.\n",
    "        \n",
    "        Returns:\n",
    "        -parameters: A dictionary of tensors containing the weights and biases. \n",
    "    \"\"\"\n",
    "    \n",
    "    C1_w = tf.get_variable(\"C1_w\",shape = [5,5,1,6], initializer = tf.contrib.layers.xavier_initializer())\n",
    "    C2_w = tf.get_variable(\"C2_w\",shape = [5,5,6,16], initializer = tf.contrib.layers.xavier_initializer())\n",
    "    F1_w = tf.get_variable(\"F1_w\",shape = [400,120], initializer = tf.contrib.layers.xavier_initializer())\n",
    "    F2_w = tf.get_variable(\"F2_w\",shape = [120,84], initializer = tf.contrib.layers.xavier_initializer())\n",
    "    F3_w = tf.get_variable(\"F3_w\",shape = [84,10], initializer = tf.contrib.layers.xavier_initializer())\n",
    "\n",
    "    C1_b = tf.get_variable(\"C1_b\", shape = [6], initializer = tf.zeros_initializer())\n",
    "    C2_b = tf.get_variable(\"C2_b\", shape = [16], initializer = tf.zeros_initializer())\n",
    "    F1_b = tf.get_variable(\"F1_b\", shape = [120], initializer = tf.zeros_initializer())\n",
    "    F2_b = tf.get_variable(\"F2_b\", shape = [84], initializer = tf.zeros_initializer())\n",
    "    F3_b = tf.get_variable(\"F3_b\", shape = [10], initializer = tf.zeros_initializer())\n",
    "        \n",
    "    parameters = {'C1_w': C1_w, 'C1_b': C1_b,\n",
    "                  'C2_w': C2_w, 'C2_b': C2_b,\n",
    "                  'F1_w': F1_w, 'F1_b': F1_b,\n",
    "                  'F2_w': F2_w, 'F2_b': F2_b,\n",
    "                  'F3_w': F3_w, 'F3_b': F3_b}\n",
    "    \n",
    "    return parameters"
   ]
  },
  {
   "cell_type": "code",
   "execution_count": 61,
   "metadata": {
    "scrolled": true
   },
   "outputs": [],
   "source": [
    "def forward_propagation(X, parameters):\n",
    "     \n",
    "    # Forward propagation.\n",
    "    \n",
    "    with tf.name_scope('conv1'):\n",
    "        #(None,32,32,1) -> (None,28,28,6).\n",
    "        C1 = tf.nn.conv2d(X, parameters['C1_w'], strides=[1,1,1,1], padding='VALID') + parameters['C1_b']\n",
    "        A1 = tf.nn.tanh(C1)\n",
    "        #(None,28,28,6) -> (None,14,14,6).\n",
    "        P1 = tf.nn.avg_pool(A1, ksize=(1,2,2,1), strides = (1,2,2,1), padding='VALID')\n",
    "   \n",
    "    with tf.name_scope('conv2'):\n",
    "        #(None,14,14,6) -> (None,10,10,16).\n",
    "        C2 = tf.nn.conv2d(P1, parameters['C2_w'], strides=[1,1,1,1], padding='VALID') + parameters['C2_b']\n",
    "        A2 = tf.nn.tanh(C2)\n",
    "        #(None,10,10,16) -> (None,5,5,16).\n",
    "        P2 = tf.nn.avg_pool(A2, ksize=(1,2,2,1), strides = (1,2,2,1), padding='VALID')\n",
    "    \n",
    "    with tf.name_scope('flatten'):\n",
    "        #(None,5,5,16) -> (None, 400).\n",
    "        P2_flatten = tf.reshape(P2, [-1, 5*5*16])\n",
    "    \n",
    "    with tf.name_scope('fc1'):\n",
    "        #(None, 400) -> (None,120).\n",
    "        F1 = tf.matmul(P2_flatten, parameters['F1_w']) + parameters['F1_b']\n",
    "        A3 = tf.nn.tanh(F1)\n",
    "    \n",
    "    with tf.name_scope('fc2'):\n",
    "        #(None,120) -> (None,84).\n",
    "        F2 = tf.matmul(A3, parameters['F2_w']) + parameters['F2_b']\n",
    "        A4 = tf.nn.tanh(F2)\n",
    "    \n",
    "    with tf.name_scope('fc3'):\n",
    "        #(None,84) -> (None,10)\n",
    "        F3 = tf.matmul(A4, parameters['F3_w']) + parameters['F3_b']\n",
    "\n",
    "    return F3"
   ]
  },
  {
   "cell_type": "code",
   "execution_count": 62,
   "metadata": {},
   "outputs": [],
   "source": [
    "def compute_cost(y_pred, y):\n",
    "    with tf.name_scope('xent'):\n",
    "        cost = tf.reduce_mean(tf.nn.softmax_cross_entropy_with_logits(logits = y_pred, labels = tf.one_hot(y, 10)))\n",
    "        return cost"
   ]
  },
  {
   "cell_type": "code",
   "execution_count": 68,
   "metadata": {},
   "outputs": [],
   "source": [
    "def LeNet_5():\n",
    "    tf.reset_default_graph()\n",
    "    nb_train_examples, nb_val_examples = len(X_train), len(X_val)\n",
    "    NB_EPOCHS, BATCH_SIZE, LR = 20, 16, 0.001\n",
    "    nb_batches = int(nb_train_examples / BATCH_SIZE)\n",
    "    costs = []\n",
    "    # Create Placeholders of the correct shape.\n",
    "    X, y = create_placeholders()\n",
    "    \n",
    "    # Initialize parameters.\n",
    "    parameters = initialize_parameters()\n",
    "    \n",
    "    # Build the forward propagation in the tensorflow graph.\n",
    "    y_pred = forward_propagation(X, parameters)\n",
    "    \n",
    "    # Performance Measures.\n",
    "    correct_prediction = tf.equal(tf.argmax(y_pred, 1), tf.argmax(tf.one_hot(y, 10), 1))\n",
    "    accuracy_operation = tf.reduce_mean(tf.cast(correct_prediction, tf.float32))    \n",
    "\n",
    "    # Add cost function to tensorflow graph.\n",
    "    cost = compute_cost(y_pred, y)\n",
    "    \n",
    "    # Define the tensorflow optimizer.\n",
    "    with tf.name_scope('train'):\n",
    "        optimizer = tf.train.GradientDescentOptimizer(learning_rate = LR).minimize(cost)\n",
    "        \n",
    "    # Initialize saver.\n",
    "    saver = tf.train.Saver()\n",
    "    \n",
    "    with tf.Session() as sess:\n",
    "        # Create event file in order to display graph on tensorboard.\n",
    "        #writer = tf.summary.FileWriter(\"logs\", sess.graph)\n",
    "        #writer.close()\n",
    "        \n",
    "        # Initialize all the variables globally.\n",
    "        init = tf.global_variables_initializer()\n",
    "        \n",
    "        # Run the initialization\n",
    "        sess.run(init)\n",
    "    \n",
    "        for epoch in range(NB_EPOCHS):\n",
    "\n",
    "            batch_cost, total_accuracy = 0, 0        \n",
    "            \n",
    "            for offset in range(0, nb_train_examples, BATCH_SIZE):        \n",
    "                end = offset + BATCH_SIZE\n",
    "                \n",
    "                #Training model.\n",
    "                X_batch, y_batch = X_train[offset:end], y_train[offset:end]\n",
    "                _, temp_cost = sess.run(fetches = [optimizer, cost], feed_dict={X:X_batch, y:y_batch})\n",
    "                batch_cost += temp_cost\n",
    "                \n",
    "                #Compute model accuracy.\n",
    "                if end <= nb_val_examples:\n",
    "                    X_val_batch, y_val_batch = X_val[offset:end], y_val[offset:end]\n",
    "                    accuracy = sess.run(accuracy_operation, feed_dict={X: X_val_batch, y: y_val_batch})\n",
    "                    total_accuracy += (accuracy * BATCH_SIZE)\n",
    "            \n",
    "            batch_cost /= nb_batches\n",
    "            total_accuracy /= nb_val_examples\n",
    "            costs.append(batch_cost)\n",
    "            \n",
    "            print(\"[Epoch {}/{}]: Cost = {} | Validation accuracy = {}\".format(epoch+1, NB_EPOCHS, batch_cost, total_accuracy))\n",
    "            \n",
    "        # Save model.\n",
    "        saver.save(sess, './checkpoint/my-model')\n",
    "        \n",
    "        return costs"
   ]
  },
  {
   "cell_type": "markdown",
   "metadata": {},
   "source": [
    "--- \n",
    "We know that:\n",
    "\n",
    "\\begin{align*} \n",
    "\\text{# batches} &= \\frac{\\text{# examples}}{\\text{Batch_Size}} \\\\\\\\\n",
    "\\frac{1}{\\text{# batches}} &= \\frac{\\text{Batch_Size}}{\\text{# examples}}\n",
    "\\end{align*}\n",
    "\n",
    "We can directly divide <b>batch_cost</b> by <b>nb_batches</b> only if every batches have the same size. If not multiply each batch accuracy by its <b>BATCH_SIZE</b> and then divide by <b>nb_val_examples<b>"
   ]
  },
  {
   "cell_type": "markdown",
   "metadata": {},
   "source": [
    "## e) Training the model"
   ]
  },
  {
   "cell_type": "code",
   "execution_count": 69,
   "metadata": {
    "scrolled": true
   },
   "outputs": [
    {
     "name": "stdout",
     "output_type": "stream",
     "text": [
      "[Epoch 1/20]: Cost = 1.221446899435428 | Validation accuracy = 0.226\n",
      "[Epoch 2/20]: Cost = 0.539832058120145 | Validation accuracy = 0.8766\n",
      "[Epoch 3/20]: Cost = 0.42174769971700715 | Validation accuracy = 0.905\n",
      "[Epoch 4/20]: Cost = 0.36785017490465 | Validation accuracy = 0.9166\n",
      "[Epoch 5/20]: Cost = 0.3337046095040828 | Validation accuracy = 0.9228\n",
      "[Epoch 6/20]: Cost = 0.30805115170553565 | Validation accuracy = 0.9298\n",
      "[Epoch 7/20]: Cost = 0.2870343158664851 | Validation accuracy = 0.9348\n",
      "[Epoch 8/20]: Cost = 0.2690083990900503 | Validation accuracy = 0.9392\n",
      "[Epoch 9/20]: Cost = 0.2531305288601692 | Validation accuracy = 0.9414\n",
      "[Epoch 10/20]: Cost = 0.23890599581514044 | Validation accuracy = 0.9462\n",
      "[Epoch 11/20]: Cost = 0.22601669336131813 | Validation accuracy = 0.949\n",
      "[Epoch 12/20]: Cost = 0.21424567469514652 | Validation accuracy = 0.9516\n",
      "[Epoch 13/20]: Cost = 0.20343828777673417 | Validation accuracy = 0.9536\n",
      "[Epoch 14/20]: Cost = 0.1934794288614734 | Validation accuracy = 0.9558\n",
      "[Epoch 15/20]: Cost = 0.1842793176711529 | Validation accuracy = 0.9584\n",
      "[Epoch 16/20]: Cost = 0.17576452230713266 | Validation accuracy = 0.9606\n",
      "[Epoch 17/20]: Cost = 0.1678725265135573 | Validation accuracy = 0.9618\n",
      "[Epoch 18/20]: Cost = 0.16054869067153638 | Validation accuracy = 0.9624\n",
      "[Epoch 19/20]: Cost = 0.15374449478445537 | Validation accuracy = 0.9638\n",
      "[Epoch 20/20]: Cost = 0.14741662731472752 | Validation accuracy = 0.966\n"
     ]
    }
   ],
   "source": [
    "costs = LeNet_5()"
   ]
  },
  {
   "cell_type": "markdown",
   "metadata": {},
   "source": [
    "## f) Evaluating the model"
   ]
  },
  {
   "cell_type": "code",
   "execution_count": 70,
   "metadata": {
    "scrolled": false
   },
   "outputs": [
    {
     "name": "stdout",
     "output_type": "stream",
     "text": [
      "INFO:tensorflow:Restoring parameters from ./checkpoint/my-model\n",
      "Test set error rate: 0.9619\n",
      "\n",
      "Some correct classification:\n"
     ]
    },
    {
     "data": {
      "image/png": "[encoded data removed]",
      "text/plain": [
       "<Figure size 432x288 with 9 Axes>"
      ]
     },
     "metadata": {},
     "output_type": "display_data"
    },
    {
     "name": "stdout",
     "output_type": "stream",
     "text": [
      "\n",
      "Some incorrect classification:\n"
     ]
    },
    {
     "data": {
      "image/png": "[encoded data removed]",
      "text/plain": [
       "<Figure size 432x288 with 9 Axes>"
      ]
     },
     "metadata": {},
     "output_type": "display_data"
    },
    {
     "name": "stdout",
     "output_type": "stream",
     "text": [
      "\n",
      "Plot of training error over 20 epochs:\n"
     ]
    },
    {
     "data": {
      "image/png": "[encoded data removed]",
      "text/plain": [
       "<Figure size 432x288 with 1 Axes>"
      ]
     },
     "metadata": {
      "needs_background": "light"
     },
     "output_type": "display_data"
    }
   ],
   "source": [
    "# Reload trained model.\n",
    "with tf.Session() as sess:\n",
    "    new_saver = tf.train.import_meta_graph('./checkpoint/my-model.meta')\n",
    "    new_saver.restore(sess, tf.train.latest_checkpoint('./checkpoint'))\n",
    "    \n",
    "    X = tf.get_default_graph().get_tensor_by_name(\"X:0\")\n",
    "    y_pred = tf.get_default_graph().get_tensor_by_name(\"fc3/add:0\")\n",
    "    \n",
    "    # Make prediction.\n",
    "    predictions = sess.run(y_pred, feed_dict={X: X_test})\n",
    "    \n",
    "    # Retrieve predictions\n",
    "    y_pred = np.argmax(predictions, axis=1)\n",
    "    \n",
    "    # Print test set accuracy.\n",
    "    print('Test set error rate: {}'.format(np.mean(y_pred == y_test)))\n",
    "    \n",
    "    # Plot some examples with model predictions.\n",
    "    print('\\nSome correct classification:')\n",
    "    plot_example(X_test, y_test, y_pred)\n",
    "\n",
    "    print('\\nSome incorrect classification:')\n",
    "    plot_example_errors(X_test, y_test, y_pred)\n",
    "    \n",
    "    # Plot training error.\n",
    "    print('\\nPlot of training error over 20 epochs:')\n",
    "    plt.title('Training error')\n",
    "    plt.ylabel('Cost')\n",
    "    plt.xlabel('epoch')\n",
    "\n",
    "    plt.plot(costs)\n",
    "    plt.legend(['train loss'], loc='upper right')\n",
    "    plt.show()"
   ]
  },
  {
   "cell_type": "markdown",
   "metadata": {},
   "source": [
    "# III) Conclusion"
   ]
  },
  {
   "cell_type": "markdown",
   "metadata": {},
   "source": [
    "We can conclude that:\n",
    "\n",
    "- The test set error (accuracy) is greater than 0.95% (0.9619%).\n",
    "- It converges after 10-12 epoch."
   ]
  }
 ],
 "metadata": {
  "kernelspec": {
   "display_name": "dl-tf1.14",
   "language": "python",
   "name": "dl-tf1.14"
  },
  "language_info": {
   "codemirror_mode": {
    "name": "ipython",
    "version": 3
   },
   "file_extension": ".py",
   "mimetype": "text/x-python",
   "name": "python",
   "nbconvert_exporter": "python",
   "pygments_lexer": "ipython3",
   "version": "3.6.8"
  }
 },
 "nbformat": 4,
 "nbformat_minor": 2
}
