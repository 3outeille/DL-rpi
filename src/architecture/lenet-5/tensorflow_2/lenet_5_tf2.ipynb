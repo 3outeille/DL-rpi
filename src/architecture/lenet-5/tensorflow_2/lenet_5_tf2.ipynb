{
 "cells": [
  {
   "cell_type": "markdown",
   "metadata": {},
   "source": [
    "# I) Summary"
   ]
  },
  {
   "cell_type": "markdown",
   "metadata": {},
   "source": [
    "**DISCLAIMER**: We will use a simplier version of the LeNet-5 than the one in the [paper](http://yann.lecun.com/exdb/publis/pdf/lecun-01a.pdf). (For example, computation on average pooling layers described in the paper are slightly more complex than usual)."
   ]
  },
  {
   "cell_type": "markdown",
   "metadata": {},
   "source": [
    "LeNet-5 has:\n",
    "\n",
    "- 2 Convolutional layers.\n",
    "- 3 Fully connected layers.\n",
    "- 2 Average pooling layers.\n",
    "- Tanh as activation function for hidden layer.\n",
    "- Softmax as activation function for output layer.\n",
    "- 60000 trainable parameters.\n",
    "- Cross-entropy as cost function\n",
    "- Gradient descent as optimizer.\n",
    "\n",
    "LeNet-5 is:\n",
    "\n",
    "- trained on MNIST dataset (60000 training examples).\n",
    "- trained over 20 epoch.\n",
    "\n",
    "LeNet-5 is expected to:\n",
    "- converge after 10-12 epoch.\n",
    "- have an error rate of 0.95% on test set. (Using accuracy as mettric)"
   ]
  },
  {
   "cell_type": "markdown",
   "metadata": {},
   "source": [
    "![](../img/legend.png)"
   ]
  },
  {
   "cell_type": "markdown",
   "metadata": {},
   "source": [
    "![](../img/lenet5-model.png)"
   ]
  },
  {
   "cell_type": "markdown",
   "metadata": {},
   "source": [
    "# II) Implementation"
   ]
  },
  {
   "cell_type": "code",
   "execution_count": null,
   "metadata": {},
   "outputs": [],
   "source": [
    "import numpy as np\n",
    "import matplotlib.pyplot as plt\n",
    "import tensorflow as tf\n",
    "%matplotlib inline"
   ]
  },
  {
   "cell_type": "markdown",
   "metadata": {},
   "source": [
    "## a) Loading dataset"
   ]
  },
  {
   "cell_type": "code",
   "execution_count": 66,
   "metadata": {},
   "outputs": [
    {
     "name": "stdout",
     "output_type": "stream",
     "text": [
      "Image Shape: (28, 28, 1)\n",
      "\n",
      "Training Set:   55000 samples\n",
      "Validation Set:   5000 samples\n",
      "Test Set:       10000 samples\n"
     ]
    }
   ],
   "source": [
    "(X_train, y_train), (X_test, y_test) = tf.keras.datasets.mnist.load_data()\n",
    "X_val, y_val = X_train[55000:, ..., np.newaxis], y_train[55000:]\n",
    "X_train, y_train = X_train[:55000, ..., np.newaxis], y_train[:55000]\n",
    "X_test =  X_test[..., np.newaxis]\n",
    "\n",
    "print(\"Image Shape: {}\".format(X_train[0].shape), end = '\\n\\n')\n",
    "print(\"Training Set:   {} samples\".format(len(X_train)))\n",
    "print(\"Validation Set:   {} samples\".format(len(X_val)))\n",
    "print(\"Test Set:       {} samples\".format(len(X_test)))"
   ]
  },
  {
   "cell_type": "markdown",
   "metadata": {},
   "source": [
    "## b) Preprocessing"
   ]
  },
  {
   "cell_type": "markdown",
   "metadata": {},
   "source": [
    "We need to:\n",
    "\n",
    "- reshape the image into a 32x32x1 shape.\n",
    "- normalize the dataset.\n",
    "\n",
    "If your ~/.keras/keras.json has the following: \n",
    "\n",
    "- <b>\"image_data_format\": \"channels_first\"</b>.\n",
    "\n",
    "Change it to \"<b>channels_last</b>\"."
   ]
  },
  {
   "cell_type": "code",
   "execution_count": 67,
   "metadata": {},
   "outputs": [
    {
     "name": "stdout",
     "output_type": "stream",
     "text": [
      "Updated Image Shape for: \n",
      "\n",
      "-Training set: (55000, 32, 32, 1)\n",
      "-Validation set: (5000, 32, 32, 1)\n",
      "-Test set: (10000, 32, 32, 1)\n"
     ]
    }
   ],
   "source": [
    "# Pad images with 0s\n",
    "X_train = np.pad(X_train, ((0,0),(2,2),(2,2),(0,0)), 'constant')\n",
    "X_val = np.pad(X_val, ((0,0),(2,2),(2,2),(0,0)), 'constant')\n",
    "X_test = np.pad(X_test, ((0,0),(2,2),(2,2),(0,0)), 'constant')\n",
    "\n",
    "print(\"Updated Image Shape for: \", end='\\n\\n')\n",
    "print(\"-Training set: {}\".format(X_train.shape))\n",
    "print(\"-Validation set: {}\".format(X_val.shape))\n",
    "print(\"-Test set: {}\".format(X_test.shape))"
   ]
  },
  {
   "cell_type": "code",
   "execution_count": 68,
   "metadata": {},
   "outputs": [],
   "source": [
    "# Normalization.\n",
    "X_train, X_val, X_test = X_train/float(255), X_val/float(255), X_test/float(255)\n",
    "X_train -= np.mean(X_train)\n",
    "X_val -= np.mean(X_val)\n",
    "X_test -= np.mean(X_test)"
   ]
  },
  {
   "cell_type": "markdown",
   "metadata": {},
   "source": [
    "## c) Visualization"
   ]
  },
  {
   "cell_type": "code",
   "execution_count": 69,
   "metadata": {},
   "outputs": [],
   "source": [
    "def plot_example(X, y, y_pred=None):\n",
    "    \"\"\"\n",
    "        Plots 9 examples and their associate labels.\n",
    "        \n",
    "        Parameters:\n",
    "        -X: Training examples.\n",
    "        -y: true labels.\n",
    "        -y_pred: predicted labels.\n",
    "    \"\"\"\n",
    "    # Create figure with 3 x 3 sub-plots.\n",
    "    fig, axes = plt.subplots(3, 3)\n",
    "    fig.subplots_adjust(hspace=0.3, wspace=0.3)\n",
    "     \n",
    "    X, y = X[:9, ..., 0], y[:9] \n",
    "    \n",
    "    for i, ax in enumerate(axes.flat):\n",
    "        # Plot image.\n",
    "        ax.imshow(X[i])\n",
    "\n",
    "        # Show true and predicted classes.\n",
    "        if y_pred is None:\n",
    "            xlabel = \"True: {0}\".format(y[i])\n",
    "        else:\n",
    "            xlabel = \"True: {0}, Pred: {1}\".format(y[i], y_pred[i])\n",
    "\n",
    "        # Show the classes as the label on the x-axis.\n",
    "        ax.set_xlabel(xlabel)\n",
    "        \n",
    "        # Remove ticks from the plot.\n",
    "        ax.set_xticks([])\n",
    "        ax.set_yticks([])\n",
    "    \n",
    "    # Ensure the plot is shown correctly with multiple plots in a single Notebook cell.\n",
    "    plt.show()"
   ]
  },
  {
   "cell_type": "code",
   "execution_count": 70,
   "metadata": {},
   "outputs": [],
   "source": [
    "def plot_example_errors(X, y, y_pred):\n",
    "    \"\"\"\n",
    "        Plots 9 example errors and their associate true/predicted labels.\n",
    "        \n",
    "        Parameters:\n",
    "        -X: Training examples.\n",
    "        -y: true labels.\n",
    "        -y_pred: predicted labels.\n",
    "    \n",
    "    \"\"\"\n",
    "    incorrect = (y != y_pred)\n",
    " \n",
    "    X = X[incorrect]\n",
    "    y = y[incorrect]\n",
    "    y_pred = y_pred[incorrect]\n",
    "    \n",
    "    # Plot the first 9 images.\n",
    "    plot_example(X, y, y_pred)"
   ]
  },
  {
   "cell_type": "code",
   "execution_count": 71,
   "metadata": {},
   "outputs": [
    {
     "data": {
      "image/png": "[encoded data removed]",
      "text/plain": [
       "<Figure size 432x288 with 9 Axes>"
      ]
     },
     "metadata": {},
     "output_type": "display_data"
    }
   ],
   "source": [
    "plot_example(X_train, y_train)"
   ]
  },
  {
   "cell_type": "markdown",
   "metadata": {},
   "source": [
    "## d) Architecture build"
   ]
  },
  {
   "cell_type": "code",
   "execution_count": 72,
   "metadata": {},
   "outputs": [],
   "source": [
    "from tensorflow.keras import Sequential\n",
    "from tensorflow.keras.layers import Conv2D, AveragePooling2D, Flatten, Dense\n",
    "from tensorflow.keras.losses import CategoricalCrossentropy"
   ]
  },
  {
   "cell_type": "code",
   "execution_count": 73,
   "metadata": {},
   "outputs": [],
   "source": [
    "def LeNet_5():\n",
    "    model = Sequential()\n",
    "\n",
    "    # C1: (None,32,32,1) -> (None,28,28,6).\n",
    "    model.add(Conv2D(6, kernel_size=(5, 5), strides=(1, 1), activation='tanh', input_shape=(32,32,1), padding='valid'))\n",
    "\n",
    "    # P1: (None,28,28,6) -> (None,14,14,6).\n",
    "    model.add(AveragePooling2D(pool_size=(2, 2), strides=(2, 2), padding='valid'))\n",
    "\n",
    "    # C2: (None,14,14,6) -> (None,10,10,16).\n",
    "    model.add(Conv2D(16, kernel_size=(5, 5), strides=(1, 1), activation='tanh', padding='valid'))\n",
    "\n",
    "    # P2: (None,10,10,16) -> (None,5,5,16).\n",
    "    model.add(AveragePooling2D(pool_size=(2, 2), strides=(2, 2), padding='valid'))\n",
    "\n",
    "    # Flatten: (None,5,5,16) -> (None, 400).\n",
    "    model.add(Flatten())\n",
    "\n",
    "    # FC1: (None, 400) -> (None,120).\n",
    "    model.add(Dense(120, activation='tanh'))\n",
    "\n",
    "    # FC2: (None,120) -> (None,84).\n",
    "    model.add(Dense(84, activation='tanh'))\n",
    "\n",
    "    # FC3: (None,84) -> (None,10).\n",
    "    model.add(Dense(10, activation='softmax'))\n",
    "\n",
    "    # Compile the model\n",
    "    model.compile(loss='sparse_categorical_crossentropy', optimizer='sgd', metrics=['accuracy']) \n",
    "    \n",
    "    return model"
   ]
  },
  {
   "cell_type": "code",
   "execution_count": 74,
   "metadata": {},
   "outputs": [
    {
     "name": "stdout",
     "output_type": "stream",
     "text": [
      "Model: \"sequential_3\"\n",
      "_________________________________________________________________\n",
      "Layer (type)                 Output Shape              Param #   \n",
      "=================================================================\n",
      "conv2d_6 (Conv2D)            (None, 28, 28, 6)         156       \n",
      "_________________________________________________________________\n",
      "average_pooling2d_6 (Average (None, 14, 14, 6)         0         \n",
      "_________________________________________________________________\n",
      "conv2d_7 (Conv2D)            (None, 10, 10, 16)        2416      \n",
      "_________________________________________________________________\n",
      "average_pooling2d_7 (Average (None, 5, 5, 16)          0         \n",
      "_________________________________________________________________\n",
      "flatten_3 (Flatten)          (None, 400)               0         \n",
      "_________________________________________________________________\n",
      "dense_9 (Dense)              (None, 120)               48120     \n",
      "_________________________________________________________________\n",
      "dense_10 (Dense)             (None, 84)                10164     \n",
      "_________________________________________________________________\n",
      "dense_11 (Dense)             (None, 10)                850       \n",
      "=================================================================\n",
      "Total params: 61,706\n",
      "Trainable params: 61,706\n",
      "Non-trainable params: 0\n",
      "_________________________________________________________________\n"
     ]
    }
   ],
   "source": [
    "model = LeNet_5()\n",
    "model.summary()"
   ]
  },
  {
   "cell_type": "markdown",
   "metadata": {},
   "source": [
    "## e) Training the model"
   ]
  },
  {
   "cell_type": "code",
   "execution_count": 75,
   "metadata": {
    "scrolled": false
   },
   "outputs": [
    {
     "name": "stdout",
     "output_type": "stream",
     "text": [
      "Train on 55000 samples, validate on 5000 samples\n",
      "Epoch 1/20\n",
      "55000/55000 [==============================] - 29s 518us/sample - loss: 0.5951 - accuracy: 0.8439 - val_loss: 0.2478 - val_accuracy: 0.9326\n",
      "Epoch 2/20\n",
      "55000/55000 [==============================] - 31s 572us/sample - loss: 0.2718 - accuracy: 0.9199 - val_loss: 0.1805 - val_accuracy: 0.9520\n",
      "Epoch 3/20\n",
      "55000/55000 [==============================] - 33s 607us/sample - loss: 0.2089 - accuracy: 0.9384 - val_loss: 0.1470 - val_accuracy: 0.9626\n",
      "Epoch 4/20\n",
      "55000/55000 [==============================] - 40s 722us/sample - loss: 0.1699 - accuracy: 0.9504 - val_loss: 0.1210 - val_accuracy: 0.9664\n",
      "Epoch 5/20\n",
      "55000/55000 [==============================] - 43s 776us/sample - loss: 0.1429 - accuracy: 0.9583 - val_loss: 0.1059 - val_accuracy: 0.9682\n",
      "Epoch 6/20\n",
      "55000/55000 [==============================] - 42s 756us/sample - loss: 0.1235 - accuracy: 0.9632 - val_loss: 0.0964 - val_accuracy: 0.9736\n",
      "Epoch 7/20\n",
      "55000/55000 [==============================] - 39s 702us/sample - loss: 0.1083 - accuracy: 0.9681 - val_loss: 0.0872 - val_accuracy: 0.9754\n",
      "Epoch 8/20\n",
      "55000/55000 [==============================] - 43s 779us/sample - loss: 0.0965 - accuracy: 0.9717 - val_loss: 0.0796 - val_accuracy: 0.9766\n",
      "Epoch 9/20\n",
      "55000/55000 [==============================] - 38s 683us/sample - loss: 0.0873 - accuracy: 0.9742 - val_loss: 0.0742 - val_accuracy: 0.9792\n",
      "Epoch 10/20\n",
      "55000/55000 [==============================] - 42s 760us/sample - loss: 0.0796 - accuracy: 0.9764 - val_loss: 0.0701 - val_accuracy: 0.9804\n",
      "Epoch 11/20\n",
      "55000/55000 [==============================] - 41s 739us/sample - loss: 0.0731 - accuracy: 0.9786 - val_loss: 0.0678 - val_accuracy: 0.9802\n",
      "Epoch 12/20\n",
      "55000/55000 [==============================] - 43s 776us/sample - loss: 0.0676 - accuracy: 0.9802 - val_loss: 0.0626 - val_accuracy: 0.9826\n",
      "Epoch 13/20\n",
      "55000/55000 [==============================] - 40s 723us/sample - loss: 0.0629 - accuracy: 0.9821 - val_loss: 0.0594 - val_accuracy: 0.9836\n",
      "Epoch 14/20\n",
      "55000/55000 [==============================] - 42s 761us/sample - loss: 0.0590 - accuracy: 0.9825 - val_loss: 0.0570 - val_accuracy: 0.9842\n",
      "Epoch 15/20\n",
      "55000/55000 [==============================] - 40s 727us/sample - loss: 0.0553 - accuracy: 0.9838 - val_loss: 0.0552 - val_accuracy: 0.9850\n",
      "Epoch 16/20\n",
      "55000/55000 [==============================] - 41s 749us/sample - loss: 0.0521 - accuracy: 0.9845 - val_loss: 0.0525 - val_accuracy: 0.9852\n",
      "Epoch 17/20\n",
      "55000/55000 [==============================] - 39s 703us/sample - loss: 0.0493 - accuracy: 0.9855 - val_loss: 0.0545 - val_accuracy: 0.9842\n",
      "Epoch 18/20\n",
      "55000/55000 [==============================] - 43s 781us/sample - loss: 0.0468 - accuracy: 0.9862 - val_loss: 0.0510 - val_accuracy: 0.9868\n",
      "Epoch 19/20\n",
      "55000/55000 [==============================] - 42s 757us/sample - loss: 0.0444 - accuracy: 0.9870 - val_loss: 0.0514 - val_accuracy: 0.9848\n",
      "Epoch 20/20\n",
      "55000/55000 [==============================] - 39s 708us/sample - loss: 0.0422 - accuracy: 0.9878 - val_loss: 0.0493 - val_accuracy: 0.9866\n"
     ]
    }
   ],
   "source": [
    "history = model.fit(X_train, y_train, validation_data=(X_val, y_val), epochs=20)"
   ]
  },
  {
   "cell_type": "code",
   "execution_count": 76,
   "metadata": {},
   "outputs": [],
   "source": [
    "# Save the model.\n",
    "model.save(\"lenet5_model.h5\")"
   ]
  },
  {
   "cell_type": "markdown",
   "metadata": {},
   "source": [
    "## f) Evaluating the model"
   ]
  },
  {
   "cell_type": "code",
   "execution_count": 80,
   "metadata": {
    "scrolled": false
   },
   "outputs": [
    {
     "name": "stdout",
     "output_type": "stream",
     "text": [
      "Test set error rate: 0.9837\n",
      "\n",
      "Some correct classification:\n"
     ]
    },
    {
     "data": {
      "image/png": "[encoded data removed]",
      "text/plain": [
       "<Figure size 432x288 with 9 Axes>"
      ]
     },
     "metadata": {},
     "output_type": "display_data"
    },
    {
     "name": "stdout",
     "output_type": "stream",
     "text": [
      "\n",
      "Some incorrect classification:\n"
     ]
    },
    {
     "data": {
      "image/png": "[encoded data removed]",
      "text/plain": [
       "<Figure size 432x288 with 9 Axes>"
      ]
     },
     "metadata": {},
     "output_type": "display_data"
    },
    {
     "name": "stdout",
     "output_type": "stream",
     "text": [
      "\n",
      "Plot of training error over 20 epochs:\n"
     ]
    },
    {
     "data": {
      "image/png": "[encoded data removed]",
      "text/plain": [
       "<Figure size 432x288 with 1 Axes>"
      ]
     },
     "metadata": {
      "needs_background": "light"
     },
     "output_type": "display_data"
    }
   ],
   "source": [
    "# Restore the model.\n",
    "model = tf.keras.models.load_model('lenet5_model.h5')\n",
    "\n",
    "# Make prediction.\n",
    "predictions = model.predict(X_test)\n",
    "\n",
    "# Retrieve predictions\n",
    "y_pred = np.argmax(predictions, axis=1)\n",
    "\n",
    "# Print test set accuracy.\n",
    "print('Test set error rate: {}'.format(np.mean(y_pred == y_test)))\n",
    "\n",
    "# Plot some examples with model predictions.\n",
    "print('\\nSome correct classification:')\n",
    "plot_example(X_test, y_test, y_pred)\n",
    "\n",
    "print('\\nSome incorrect classification:')\n",
    "plot_example_errors(X_test, y_test, y_pred)\n",
    "\n",
    "# Plot training error.\n",
    "print('\\nPlot of training error over 20 epochs:')\n",
    "plt.title('Training error')\n",
    "plt.ylabel('Cost')\n",
    "plt.xlabel('epoch')\n",
    "\n",
    "plt.plot(history.history['loss'])\n",
    "plt.plot(history.history['val_loss'])\n",
    "plt.legend(['train loss', 'val loss'], loc='upper right')\n",
    "plt.show()"
   ]
  },
  {
   "cell_type": "markdown",
   "metadata": {},
   "source": [
    "# III) Conclusion"
   ]
  },
  {
   "cell_type": "markdown",
   "metadata": {},
   "source": [
    "We can conclude that:\n",
    "\n",
    "- The test set error (accuracy) is greater than 0.95% (0.9837%).\n",
    "- It seems to start converging after 10-12 epochs."
   ]
  }
 ],
 "metadata": {
  "kernelspec": {
   "display_name": "dl-tf2",
   "language": "python",
   "name": "dl-tf2"
  },
  "language_info": {
   "codemirror_mode": {
    "name": "ipython",
    "version": 3
   },
   "file_extension": ".py",
   "mimetype": "text/x-python",
   "name": "python",
   "nbconvert_exporter": "python",
   "pygments_lexer": "ipython3",
   "version": "3.6.8"
  }
 },
 "nbformat": 4,
 "nbformat_minor": 2
}
