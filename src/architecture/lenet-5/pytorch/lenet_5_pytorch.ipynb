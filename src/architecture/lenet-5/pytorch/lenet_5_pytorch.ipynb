{
 "cells": [
  {
   "cell_type": "markdown",
   "metadata": {},
   "source": [
    "# I) Summary"
   ]
  },
  {
   "cell_type": "markdown",
   "metadata": {},
   "source": [
    "**DISCLAIMER**: We will use a simplier version of the LeNet-5 than the one in the [paper](http://yann.lecun.com/exdb/publis/pdf/lecun-01a.pdf). (For example, computation on average pooling layers described in the paper are slightly more complex than usual)."
   ]
  },
  {
   "cell_type": "markdown",
   "metadata": {},
   "source": [
    "LeNet-5 has:\n",
    "\n",
    "- 2 Convolutional layers.\n",
    "- 3 Fully connected layers.\n",
    "- 2 Average pooling layers.\n",
    "- Tanh as activation function for hidden layer.\n",
    "- Softmax as activation function for output layer.\n",
    "- 60000 trainable parameters.\n",
    "- Cross-entropy as cost function\n",
    "- Gradient descent as optimizer.\n",
    "\n",
    "LeNet-5 is:\n",
    "\n",
    "- trained on MNIST dataset (60000 training examples).\n",
    "- trained over 20 epoch.\n",
    "\n",
    "LeNet-5 is expected to:\n",
    "- converge after 10-12 epoch.\n",
    "- have an error rate of 0.95% on test set. (Using accuracy as mettric)"
   ]
  },
  {
   "cell_type": "markdown",
   "metadata": {},
   "source": [
    "![legend](../../img/legend.png)"
   ]
  },
  {
   "cell_type": "markdown",
   "metadata": {},
   "source": [
    "![LeNet-5 model](../../img/lenet5-model.png)"
   ]
  },
  {
   "cell_type": "markdown",
   "metadata": {},
   "source": [
    "# II) Implementation"
   ]
  },
  {
   "cell_type": "code",
   "execution_count": 1,
   "metadata": {},
   "outputs": [],
   "source": [
    "from IPython.display import clear_output\n",
    "import shutil\n",
    "import torch\n",
    "import torch.nn as nn\n",
    "from torch.utils.data import DataLoader, random_split\n",
    "from torchvision import transforms, datasets\n",
    "import torch.optim as optim\n",
    "import numpy as np\n",
    "import matplotlib.pyplot as plt\n",
    "%matplotlib inline"
   ]
  },
  {
   "cell_type": "markdown",
   "metadata": {},
   "source": [
    "## a) Loading dataset / Preprocessing"
   ]
  },
  {
   "cell_type": "markdown",
   "metadata": {},
   "source": [
    "Notice:\n",
    "\n",
    "- Pytorch let us preprocess our data (reshaping, normalizing) while loading our data.\n",
    "- the format used for the image is the following: (n, C, H, W)."
   ]
  },
  {
   "cell_type": "code",
   "execution_count": 2,
   "metadata": {},
   "outputs": [],
   "source": [
    "def load_mnist():\n",
    "    transform = transforms.Compose([transforms.Resize((32,32)),\n",
    "                                    transforms.ToTensor(),\n",
    "                                    transforms.Normalize(mean=[0.5], std=[0.5])])\n",
    "            \n",
    "    train_dataset = datasets.MNIST('./data', train=True, download=True, transform=transform)\n",
    "    test_dataset = datasets.MNIST('./data', train=False, download=True, transform=transform)\n",
    "    \n",
    "    # Clear downloading message.\n",
    "    clear_output()\n",
    "    \n",
    "    # Split dataset into training set and validation set.\n",
    "    train_dataset, val_dataset = random_split(train_dataset, (55000, 5000))\n",
    "    \n",
    "    print(\"Image Shape: {}\".format(train_dataset[0][0].numpy().shape), end = '\\n\\n')\n",
    "    print(\"Training Set:   {} samples\".format(len(train_dataset)))\n",
    "    print(\"Validation Set:   {} samples\".format(len(val_dataset)))\n",
    "    print(\"Test Set:       {} samples\".format(len(test_dataset)))\n",
    "    \n",
    "    # Create iterator.\n",
    "    train_loader = DataLoader(train_dataset, batch_size=16, shuffle=True)\n",
    "    val_loader = DataLoader(val_dataset, batch_size=16, shuffle=True)\n",
    "    test_loader = DataLoader(test_dataset, batch_size=len(test_dataset), shuffle=True)\n",
    "    \n",
    "    # Delete the data/ folder.\n",
    "    shutil.rmtree('./data')\n",
    "    \n",
    "    return (train_loader, val_loader, test_loader)"
   ]
  },
  {
   "cell_type": "code",
   "execution_count": 3,
   "metadata": {
    "scrolled": true
   },
   "outputs": [
    {
     "name": "stdout",
     "output_type": "stream",
     "text": [
      "Image Shape: (1, 32, 32)\n",
      "\n",
      "Training Set:   55000 samples\n",
      "Validation Set:   5000 samples\n",
      "Test Set:       10000 samples\n"
     ]
    }
   ],
   "source": [
    "train_loader, val_loader, test_loader = load_mnist()"
   ]
  },
  {
   "cell_type": "markdown",
   "metadata": {},
   "source": [
    "---  \n",
    " <b>transforms.Normalize(mean=[0.5], std=[0.5])</b> ->  Normalize images over 1 channel in the range [-1,1].\n",
    " \n",
    " $$image[channel] = \\frac{image[channel] - mean[channel]}{std[channel]}$$\n",
    " - <b>PROOF:</b> \n",
    "     - if $image[channel] = 0$ (minimum value) then $\\frac{0 - 0.5}{0.5} = -1$.\n",
    "     - if $image[channel] = 1$ (maximum value) then $\\frac{1 - 0.5}{0.5} = 1$.\n",
    " \n",
    "\n",
    "Thus it normalize images in the range of [-1,1].\n"
   ]
  },
  {
   "cell_type": "markdown",
   "metadata": {},
   "source": [
    "## b) Visualization"
   ]
  },
  {
   "cell_type": "code",
   "execution_count": 4,
   "metadata": {},
   "outputs": [],
   "source": [
    "def plot_example(X, y, y_pred=None):\n",
    "    \"\"\"\n",
    "        Plots 9 examples and their associate labels.\n",
    "        \n",
    "        Parameters:\n",
    "        -X: Training examples.\n",
    "        -y: true labels.\n",
    "        -y_pred: predicted labels.\n",
    "    \"\"\"\n",
    "    # Create figure with 3 x 3 sub-plots.\n",
    "    fig, axes = plt.subplots(3, 3)\n",
    "    fig.subplots_adjust(hspace=0.3, wspace=0.3)\n",
    "     \n",
    "    X, y = X[:9, 0, ...], y[:9] \n",
    "    \n",
    "    for i, ax in enumerate(axes.flat):\n",
    "        # Plot image.\n",
    "        ax.imshow(X[i])\n",
    "\n",
    "        # Show true and predicted classes.\n",
    "        if y_pred is None:\n",
    "            xlabel = \"True: {0}\".format(y[i])\n",
    "        else:\n",
    "            xlabel = \"True: {0}, Pred: {1}\".format(y[i], y_pred[i])\n",
    "\n",
    "        # Show the classes as the label on the x-axis.\n",
    "        ax.set_xlabel(xlabel)\n",
    "        \n",
    "        # Remove ticks from the plot.\n",
    "        ax.set_xticks([])\n",
    "        ax.set_yticks([])\n",
    "    \n",
    "    # Ensure the plot is shown correctly with multiple plots in a single Notebook cell.\n",
    "    plt.show()"
   ]
  },
  {
   "cell_type": "code",
   "execution_count": 5,
   "metadata": {},
   "outputs": [],
   "source": [
    "def plot_example_errors(X, y, y_pred):\n",
    "    \"\"\"\n",
    "        Plots 9 example errors and their associate true/predicted labels.\n",
    "        \n",
    "        Parameters:\n",
    "        -X: Training examples.\n",
    "        -y: true labels.\n",
    "        -y_pred: predicted labels.\n",
    "    \n",
    "    \"\"\"\n",
    "    incorrect = (y != y_pred)\n",
    " \n",
    "    X = X[incorrect]\n",
    "    y = y[incorrect]\n",
    "    y_pred = y_pred[incorrect]\n",
    "\n",
    "    # Plot the first 9 images.\n",
    "    plot_example(X, y, y_pred)"
   ]
  },
  {
   "cell_type": "code",
   "execution_count": 6,
   "metadata": {},
   "outputs": [
    {
     "data": {
      "image/png": "[encoded data removed]",
      "text/plain": [
       "<Figure size 432x288 with 9 Axes>"
      ]
     },
     "metadata": {},
     "output_type": "display_data"
    }
   ],
   "source": [
    "images, labels = iter(train_loader).next()\n",
    "plot_example(images.numpy(), labels.numpy())"
   ]
  },
  {
   "cell_type": "markdown",
   "metadata": {},
   "source": [
    "## c) Architecture build"
   ]
  },
  {
   "cell_type": "code",
   "execution_count": 7,
   "metadata": {},
   "outputs": [],
   "source": [
    "class LeNet_5(nn.Module):\n",
    "    \n",
    "    def __init__(self):\n",
    "        super(LeNet_5, self).__init__()\n",
    "        \n",
    "        self.C1 = nn.Conv2d(in_channels=1, out_channels=6, kernel_size=(5,5))\n",
    "        self.P1 = nn.AvgPool2d(kernel_size=(2,2), stride=2)\n",
    "        self.C2 = nn.Conv2d(in_channels=6, out_channels=16, kernel_size=(5,5))\n",
    "        self.P2 = nn.AvgPool2d(kernel_size=(2,2), stride=2)\n",
    "\n",
    "        self.FC1 = nn.Linear(in_features=16*5*5, out_features=120)\n",
    "        self.FC2 = nn.Linear(in_features=120, out_features=84)\n",
    "        self.FC3 = nn.Linear(in_features=84, out_features=10)  \n",
    "        \n",
    "        \n",
    "    def forward(self, x):\n",
    "        x = torch.tanh(self.C1(x))\n",
    "        x = self.P1(x)\n",
    "        x = torch.tanh(self.C2(x))\n",
    "        x = self.P2(x)\n",
    "        x = x.view(-1, 16*5*5)\n",
    "        x = torch.tanh(self.FC1(x))\n",
    "        x = torch.tanh(self.FC2(x))\n",
    "        # No need to use softmax because it is already called in\n",
    "        # nn.CrossEntropyLoss().\n",
    "        x = self.FC3(x)\n",
    "    \n",
    "        return x"
   ]
  },
  {
   "cell_type": "code",
   "execution_count": 8,
   "metadata": {
    "scrolled": false
   },
   "outputs": [
    {
     "data": {
      "text/plain": [
       "LeNet_5(\n",
       "  (C1): Conv2d(1, 6, kernel_size=(5, 5), stride=(1, 1))\n",
       "  (P1): AvgPool2d(kernel_size=(2, 2), stride=2, padding=0)\n",
       "  (C2): Conv2d(6, 16, kernel_size=(5, 5), stride=(1, 1))\n",
       "  (P2): AvgPool2d(kernel_size=(2, 2), stride=2, padding=0)\n",
       "  (FC1): Linear(in_features=400, out_features=120, bias=True)\n",
       "  (FC2): Linear(in_features=120, out_features=84, bias=True)\n",
       "  (FC3): Linear(in_features=84, out_features=10, bias=True)\n",
       ")"
      ]
     },
     "execution_count": 8,
     "metadata": {},
     "output_type": "execute_result"
    }
   ],
   "source": [
    "model = LeNet_5()\n",
    "model"
   ]
  },
  {
   "cell_type": "code",
   "execution_count": 9,
   "metadata": {},
   "outputs": [],
   "source": [
    "criterion = nn.CrossEntropyLoss()\n",
    "optimizer = optim.SGD(model.parameters(), lr=0.001)"
   ]
  },
  {
   "cell_type": "markdown",
   "metadata": {},
   "source": [
    "## d) Training the model"
   ]
  },
  {
   "cell_type": "code",
   "execution_count": 10,
   "metadata": {},
   "outputs": [],
   "source": [
    "def train_model():\n",
    "    EPOCHS = 20\n",
    "    nb_examples = 55000\n",
    "    nb_val_examples = 5000\n",
    "    train_costs, val_costs = [], []\n",
    "    \n",
    "    #Training phase.\n",
    "    \n",
    "    for epoch in range(EPOCHS):\n",
    "        \n",
    "        train_loss = 0\n",
    "        correct_train = 0\n",
    "        \n",
    "        for inputs, labels in train_loader:\n",
    "            # Zero the parameter gradients.\n",
    "            optimizer.zero_grad()\n",
    "            \n",
    "            # Forward pass.\n",
    "            prediction = model(inputs)\n",
    "            \n",
    "            # Compute the loss.\n",
    "            loss = criterion(prediction, labels)\n",
    "            \n",
    "            # Backward pass.\n",
    "            loss.backward()\n",
    "            \n",
    "            # Optimize.\n",
    "            optimizer.step()\n",
    "            \n",
    "            # Compute training accuracy.\n",
    "            _, predicted = torch.max(prediction.data, 1)\n",
    "            correct_train += (predicted == labels).sum().item()\n",
    "            \n",
    "            # Compute batch loss.\n",
    "            train_loss += (loss.data.item() * inputs.shape[0])\n",
    "\n",
    "        train_loss /= nb_examples\n",
    "        train_costs.append(train_loss)\n",
    "        train_acc =  correct_train / nb_examples\n",
    "        \n",
    "        val_loss = 0\n",
    "        correct_val = 0\n",
    "\n",
    "        for inputs, labels in val_loader:\n",
    "            # Zero the parameter gradients.\n",
    "            optimizer.zero_grad()\n",
    "             \n",
    "            # Forward pass.\n",
    "            prediction = model(inputs)\n",
    "            \n",
    "            # Compute the loss.\n",
    "            loss = criterion(prediction, labels)\n",
    "            \n",
    "            # Backward pass.\n",
    "            loss.backward()\n",
    "            \n",
    "            # Optimize.\n",
    "            optimizer.step()\n",
    "            \n",
    "            # Compute training accuracy.\n",
    "            _, predicted = torch.max(prediction.data, 1)\n",
    "            correct_val += (predicted == labels).sum().item()\n",
    "            \n",
    "            # Compute batch loss.\n",
    "            val_loss += (loss.data.item() * inputs.shape[0])\n",
    "\n",
    "        val_loss /= nb_val_examples\n",
    "        val_costs.append(val_loss)\n",
    "        val_acc =  correct_val / nb_val_examples\n",
    "        \n",
    "        info = \"[Epoch {}/{}]: train-loss = {:0.6f} | train-acc = {:0.3f} | val-loss = {:0.6f} | val-acc = {:0.3f}\"\n",
    "        print(info.format(epoch+1, EPOCHS, train_loss, train_acc, val_loss, val_acc))\n",
    "                                                                \n",
    "    torch.save(model.state_dict(), 'lenet5_model')  \n",
    "    return train_costs, val_costs"
   ]
  },
  {
   "cell_type": "code",
   "execution_count": 11,
   "metadata": {},
   "outputs": [
    {
     "name": "stdout",
     "output_type": "stream",
     "text": [
      "[Epoch 1/20]: train-loss = 2.161053 | train-acc = 0.321 | val-loss = 1.745551 | val-acc = 0.603\n",
      "[Epoch 2/20]: train-loss = 1.152115 | train-acc = 0.737 | val-loss = 0.776660 | val-acc = 0.825\n",
      "[Epoch 3/20]: train-loss = 0.625051 | train-acc = 0.850 | val-loss = 0.521787 | val-acc = 0.872\n",
      "[Epoch 4/20]: train-loss = 0.465169 | train-acc = 0.880 | val-loss = 0.422384 | val-acc = 0.889\n",
      "[Epoch 5/20]: train-loss = 0.392928 | train-acc = 0.892 | val-loss = 0.369454 | val-acc = 0.900\n",
      "[Epoch 6/20]: train-loss = 0.349584 | train-acc = 0.902 | val-loss = 0.334451 | val-acc = 0.909\n",
      "[Epoch 7/20]: train-loss = 0.317997 | train-acc = 0.910 | val-loss = 0.307354 | val-acc = 0.916\n",
      "[Epoch 8/20]: train-loss = 0.292301 | train-acc = 0.916 | val-loss = 0.284597 | val-acc = 0.922\n",
      "[Epoch 9/20]: train-loss = 0.270288 | train-acc = 0.922 | val-loss = 0.263995 | val-acc = 0.927\n",
      "[Epoch 10/20]: train-loss = 0.250795 | train-acc = 0.928 | val-loss = 0.245879 | val-acc = 0.931\n",
      "[Epoch 11/20]: train-loss = 0.233262 | train-acc = 0.932 | val-loss = 0.229310 | val-acc = 0.935\n",
      "[Epoch 12/20]: train-loss = 0.217639 | train-acc = 0.937 | val-loss = 0.213826 | val-acc = 0.940\n",
      "[Epoch 13/20]: train-loss = 0.203340 | train-acc = 0.941 | val-loss = 0.200191 | val-acc = 0.945\n",
      "[Epoch 14/20]: train-loss = 0.190415 | train-acc = 0.945 | val-loss = 0.187704 | val-acc = 0.949\n",
      "[Epoch 15/20]: train-loss = 0.178908 | train-acc = 0.949 | val-loss = 0.176024 | val-acc = 0.951\n",
      "[Epoch 16/20]: train-loss = 0.168400 | train-acc = 0.952 | val-loss = 0.165392 | val-acc = 0.952\n",
      "[Epoch 17/20]: train-loss = 0.158917 | train-acc = 0.954 | val-loss = 0.156288 | val-acc = 0.955\n",
      "[Epoch 18/20]: train-loss = 0.150364 | train-acc = 0.957 | val-loss = 0.147714 | val-acc = 0.959\n",
      "[Epoch 19/20]: train-loss = 0.142764 | train-acc = 0.958 | val-loss = 0.139828 | val-acc = 0.960\n",
      "[Epoch 20/20]: train-loss = 0.135666 | train-acc = 0.961 | val-loss = 0.133024 | val-acc = 0.962\n"
     ]
    }
   ],
   "source": [
    "train_costs, val_costs = train_model()"
   ]
  },
  {
   "cell_type": "markdown",
   "metadata": {},
   "source": [
    "--- \n",
    "We know that:\n",
    "\n",
    "\\begin{align*} \n",
    "\\text{# batches} &= \\frac{\\text{# examples}}{\\text{Batch_Size}} \\\\\\\\\n",
    "\\frac{1}{\\text{# batches}} &= \\frac{\\text{Batch_Size}}{\\text{# examples}}\n",
    "\\end{align*}\n",
    "\n",
    "We can directly divide <b>batch_cost</b> by <b># batches</b> only if every batch has the same size. If not multiply each <b>batch_cost</b> by its <b>batch_size</b> and then divide by <b># examples</b>. Same reasoning applied to validation accuracy computation."
   ]
  },
  {
   "cell_type": "markdown",
   "metadata": {},
   "source": [
    "## e) Evaluating the model"
   ]
  },
  {
   "cell_type": "code",
   "execution_count": 12,
   "metadata": {},
   "outputs": [
    {
     "data": {
      "text/plain": [
       "<All keys matched successfully>"
      ]
     },
     "execution_count": 12,
     "metadata": {},
     "output_type": "execute_result"
    }
   ],
   "source": [
    "# Restore the model.\n",
    "model = LeNet_5()\n",
    "model.load_state_dict(torch.load('lenet5_model'))"
   ]
  },
  {
   "cell_type": "code",
   "execution_count": 17,
   "metadata": {
    "scrolled": false
   },
   "outputs": [
    {
     "name": "stdout",
     "output_type": "stream",
     "text": [
      "Test set error rate: 0.9655\n",
      "\n",
      "Some correct classification:\n"
     ]
    },
    {
     "data": {
      "image/png": "[encoded data removed]",
      "text/plain": [
       "<Figure size 432x288 with 9 Axes>"
      ]
     },
     "metadata": {},
     "output_type": "display_data"
    },
    {
     "name": "stdout",
     "output_type": "stream",
     "text": [
      "\n",
      "Some incorrect classification:\n"
     ]
    },
    {
     "data": {
      "image/png": "[encoded data removed]",
      "text/plain": [
       "<Figure size 432x288 with 9 Axes>"
      ]
     },
     "metadata": {},
     "output_type": "display_data"
    },
    {
     "name": "stdout",
     "output_type": "stream",
     "text": [
      "\n",
      "Plot of training/validation error over 20 epochs:\n"
     ]
    },
    {
     "data": {
      "image/png": "[encoded data removed]",
      "text/plain": [
       "<Figure size 432x288 with 1 Axes>"
      ]
     },
     "metadata": {
      "needs_background": "light"
     },
     "output_type": "display_data"
    }
   ],
   "source": [
    "# Create iterator.\n",
    "dataiter = iter(test_loader)\n",
    "images, labels = dataiter.next()\n",
    "\n",
    "# Make predictions.\n",
    "predictions = model(images)\n",
    "\n",
    "# Retrieve predictions indexes.\n",
    "_, predicted = torch.max(predictions, 1)\n",
    "\n",
    "# Compute number of correct predictions.\n",
    "correct = (predicted == labels).sum().item()\n",
    "\n",
    "# Compute accuracy on test set.\n",
    "test_accuracy = correct / images.shape[0]\n",
    "print('Test set error rate: {}'.format(test_accuracy))\n",
    "\n",
    "# Plot some examples with model predictions.\n",
    "print('\\nSome correct classification:')\n",
    "plot_example(images.numpy(), labels.numpy(), predicted.numpy())\n",
    "\n",
    "print('\\nSome incorrect classification:')\n",
    "plot_example_errors(images.numpy(), labels.numpy(), predicted.numpy())\n",
    "\n",
    "# Plot training error.\n",
    "print('\\nPlot of training/validation error over 20 epochs:')\n",
    "plt.title('Training/Validation error')\n",
    "plt.ylabel('Cost')\n",
    "plt.xlabel('epoch')\n",
    "\n",
    "plt.plot(train_costs)\n",
    "plt.plot(val_costs)\n",
    "plt.legend(['train-loss', 'val-loss'], loc='upper right')\n",
    "plt.show()"
   ]
  },
  {
   "cell_type": "markdown",
   "metadata": {},
   "source": [
    "# III) Conclusion"
   ]
  },
  {
   "cell_type": "markdown",
   "metadata": {},
   "source": [
    "We can conclude that:\n",
    "\n",
    "- The test set error (accuracy) is greater than 0.95 % (0.0.9655 %).\n",
    "- It seems to start converging after 10-12 epochs."
   ]
  }
 ],
 "metadata": {
  "kernelspec": {
   "display_name": "pytorch",
   "language": "python",
   "name": "pytorch"
  },
  "language_info": {
   "codemirror_mode": {
    "name": "ipython",
    "version": 3
   },
   "file_extension": ".py",
   "mimetype": "text/x-python",
   "name": "python",
   "nbconvert_exporter": "python",
   "pygments_lexer": "ipython3",
   "version": "3.6.8"
  }
 },
 "nbformat": 4,
 "nbformat_minor": 2
}
