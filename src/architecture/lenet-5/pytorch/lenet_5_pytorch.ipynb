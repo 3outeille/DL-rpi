{
 "cells": [
  {
   "cell_type": "markdown",
   "metadata": {},
   "source": [
    "# I) Summary"
   ]
  },
  {
   "cell_type": "markdown",
   "metadata": {},
   "source": [
    "**DISCLAIMER**: We will use a simplier version of the LeNet-5 than the one in the [paper](http://yann.lecun.com/exdb/publis/pdf/lecun-01a.pdf). (For example, computation on average pooling layers described in the paper are slightly more complex than usual)."
   ]
  },
  {
   "cell_type": "markdown",
   "metadata": {},
   "source": [
    "LeNet-5 has:\n",
    "\n",
    "- 2 Convolutional layers.\n",
    "- 3 Fully connected layers.\n",
    "- 2 Average pooling layers.\n",
    "- Tanh as activation function for hidden layer.\n",
    "- Softmax as activation function for output layer.\n",
    "- 60000 trainable parameters.\n",
    "- Cross-entropy as cost function\n",
    "- Gradient descent as optimizer. (We will use Adam because it leads to better result)\n",
    "\n",
    "LeNet-5 is:\n",
    "\n",
    "- trained on MNIST dataset (60000 training examples).\n",
    "- trained over 20 epoch.\n",
    "\n",
    "LeNet-5 is expected to:\n",
    "- converge after 10-12 epoch.\n",
    "- have an error rate of 0.95% on test set. (Using accuracy as mettric)"
   ]
  },
  {
   "cell_type": "markdown",
   "metadata": {},
   "source": [
    "![legend](../img/legend.png)"
   ]
  },
  {
   "cell_type": "markdown",
   "metadata": {},
   "source": [
    "![LeNet-5 model](../img/lenet5-model.png)"
   ]
  },
  {
   "cell_type": "markdown",
   "metadata": {},
   "source": [
    "# II) Implementation"
   ]
  },
  {
   "cell_type": "code",
   "execution_count": 131,
   "metadata": {},
   "outputs": [],
   "source": [
    "import torch.nn as nn\n",
    "from torch.utils.data import DataLoader, random_split\n",
    "from torchvision import transforms, datasets\n",
    "import numpy as np\n",
    "import matplotlib.pyplot as plt\n",
    "%matplotlib inline"
   ]
  },
  {
   "cell_type": "markdown",
   "metadata": {},
   "source": [
    "## a) Loading dataset / Preprocessing"
   ]
  },
  {
   "cell_type": "markdown",
   "metadata": {},
   "source": [
    "Notice:\n",
    "\n",
    "- Pytorch let us preprocess our data (reshaping, normalizing) while loading our data."
   ]
  },
  {
   "cell_type": "code",
   "execution_count": 291,
   "metadata": {},
   "outputs": [],
   "source": [
    "def load_mnist(normalize=False):\n",
    "    transform_list = [transforms.Resize((32,32)), transforms.ToTensor()]\n",
    "    \n",
    "    if normalize:\n",
    "        # Normalize images over 1 channel in the range [-1,1].\n",
    "        # image[channel] = (image[channel] - mean[channel]) / std[channel]\n",
    "        # PROOF: \n",
    "        # if image[channel] = 0 (minimum value) then (0 - 0.5) / 0.5 = -1.\n",
    "        # if image[channel] = 1 (maximum value) then (1 - 0.5) / 0.5  = 1.\n",
    "        # Thus it normalize images in the range of [-1,1].\n",
    "        transform_list.append(transforms.Normalize(mean=[0.5], std=[0.5]))\n",
    "        \n",
    "    transform = transforms.Compose(transform_list)\n",
    "    \n",
    "    train_dataset = datasets.MNIST('./data', train=True, download=True, transform=transform)\n",
    "    test_dataset = datasets.MNIST('./data', train=False, download=True, transform=transform)\n",
    "    \n",
    " \n",
    "    train_dataset, val_dataset = random_split(train_dataset, (55000, 5000))\n",
    "    \n",
    "    print(\"Image Shape: {}\".format(train_dataset[0][0].numpy().shape), end = '\\n\\n')\n",
    "    print(\"Training Set:   {} samples\".format(len(train_dataset)))\n",
    "    print(\"Validation Set:   {} samples\".format(len(val_dataset)))\n",
    "    print(\"Test Set:       {} samples\".format(len(test_dataset)))\n",
    "    \n",
    "    train_loader = DataLoader(train_dataset, batch_size=128, shuffle=True)\n",
    "    val_loader = DataLoader(val_dataset, batch_size=128, shuffle=True)\n",
    "    test_loader = DataLoader(test_dataset, batch_size=128, shuffle=True)\n",
    "    \n",
    "    return (train_loader, val_loader, test_loader)"
   ]
  },
  {
   "cell_type": "code",
   "execution_count": 292,
   "metadata": {},
   "outputs": [
    {
     "name": "stdout",
     "output_type": "stream",
     "text": [
      "Image Shape: (1, 32, 32)\n",
      "\n",
      "Training Set:   55000 samples\n",
      "Validation Set:   5000 samples\n",
      "Test Set:       10000 samples\n"
     ]
    }
   ],
   "source": [
    "train_loader, val_loader, test_loader = load_mnist(normalize=True)"
   ]
  },
  {
   "cell_type": "markdown",
   "metadata": {},
   "source": [
    "## b) Visualization"
   ]
  },
  {
   "cell_type": "code",
   "execution_count": 293,
   "metadata": {},
   "outputs": [],
   "source": [
    "def plot_example(X, y, y_pred=None):\n",
    "    \"\"\"\n",
    "        Plots 9 examples and their associate labels.\n",
    "        \n",
    "        Parameters:\n",
    "        -X: Training examples.\n",
    "        -y: true labels.\n",
    "        -y_pred: predicted labels.\n",
    "    \"\"\"\n",
    "    # Create figure with 3 x 3 sub-plots.\n",
    "    fig, axes = plt.subplots(3, 3)\n",
    "    fig.subplots_adjust(hspace=0.3, wspace=0.3)\n",
    "     \n",
    "    X, y = X[:9, 0, ...], y[:9] \n",
    "    \n",
    "    for i, ax in enumerate(axes.flat):\n",
    "        # Plot image.\n",
    "        ax.imshow(X[i])\n",
    "\n",
    "        # Show true and predicted classes.\n",
    "        if y_pred is None:\n",
    "            xlabel = \"True: {0}\".format(y[i])\n",
    "        else:\n",
    "            xlabel = \"True: {0}, Pred: {1}\".format(y[i], y_pred[i])\n",
    "\n",
    "        # Show the classes as the label on the x-axis.\n",
    "        ax.set_xlabel(xlabel)\n",
    "        \n",
    "        # Remove ticks from the plot.\n",
    "        ax.set_xticks([])\n",
    "        ax.set_yticks([])\n",
    "    \n",
    "    # Ensure the plot is shown correctly with multiple plots in a single Notebook cell.\n",
    "    plt.show()"
   ]
  },
  {
   "cell_type": "code",
   "execution_count": 294,
   "metadata": {},
   "outputs": [],
   "source": [
    "def plot_example_errors(X, y, y_pred):\n",
    "    \"\"\"\n",
    "        Plots 9 example errors and their associate true/predicted labels.\n",
    "        \n",
    "        Parameters:\n",
    "        -X: Training examples.\n",
    "        -y: true labels.\n",
    "        -y_pred: predicted labels.\n",
    "    \n",
    "    \"\"\"\n",
    "    incorrect = (y != y_pred)\n",
    " \n",
    "    X = X[incorrect]\n",
    "    y = y[incorrect]\n",
    "    y_pred = y_pred[incorrect]\n",
    "    \n",
    "    # Plot the first 9 images.\n",
    "    plot_example(X, y, y_pred)"
   ]
  },
  {
   "cell_type": "code",
   "execution_count": 295,
   "metadata": {},
   "outputs": [
    {
     "data": {
      "image/png": "[encoded data removed]",
      "text/plain": [
       "<Figure size 432x288 with 9 Axes>"
      ]
     },
     "metadata": {},
     "output_type": "display_data"
    }
   ],
   "source": [
    "images, labels = iter(train_loader).next()\n",
    "plot_example(images.numpy(), labels.numpy())"
   ]
  },
  {
   "cell_type": "markdown",
   "metadata": {},
   "source": [
    "## d) Architecture build"
   ]
  },
  {
   "cell_type": "code",
   "execution_count": null,
   "metadata": {},
   "outputs": [],
   "source": []
  }
 ],
 "metadata": {
  "kernelspec": {
   "display_name": "pytorch",
   "language": "python",
   "name": "pytorch"
  },
  "language_info": {
   "codemirror_mode": {
    "name": "ipython",
    "version": 3
   },
   "file_extension": ".py",
   "mimetype": "text/x-python",
   "name": "python",
   "nbconvert_exporter": "python",
   "pygments_lexer": "ipython3",
   "version": "3.6.8"
  }
 },
 "nbformat": 4,
 "nbformat_minor": 2
}
