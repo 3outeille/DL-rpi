{
 "cells": [
  {
   "cell_type": "markdown",
   "metadata": {},
   "source": [
    "# I) Summary"
   ]
  },
  {
   "cell_type": "markdown",
   "metadata": {},
   "source": [
    "**DISCLAIMER**: We will use a simplier version of the LeNet-5 than the one in the [paper](http://yann.lecun.com/exdb/publis/pdf/lecun-01a.pdf). (For example, computation on average pooling layers described in the paper are slightly more complex than usual)."
   ]
  },
  {
   "cell_type": "markdown",
   "metadata": {},
   "source": [
    "LeNet-5 has:\n",
    "\n",
    "- 2 Convolutional layers.\n",
    "- 3 Fully connected layers.\n",
    "- 2 Average pooling layers.\n",
    "- Tanh as activation function for hidden layer.\n",
    "- Softmax as activation function for output layer.\n",
    "- 60000 trainable parameters.\n",
    "- Cross-entropy as cost function\n",
    "- Gradient descent as optimizer. (We will use Adam because it leads to better result)\n",
    "\n",
    "LeNet-5 is:\n",
    "\n",
    "- trained on MNIST dataset (60000 training examples).\n",
    "- trained over 20 epoch.\n",
    "\n",
    "LeNet-5 is expected to:\n",
    "- converge after 10-12 epoch.\n",
    "- have an error rate of 0.95% on test set. (Using accuracy as mettric)"
   ]
  },
  {
   "cell_type": "markdown",
   "metadata": {},
   "source": [
    "![legend](../img/legend.png)"
   ]
  },
  {
   "cell_type": "markdown",
   "metadata": {},
   "source": [
    "![LeNet-5 model](../img/lenet5-model.png)"
   ]
  },
  {
   "cell_type": "markdown",
   "metadata": {},
   "source": [
    "# II) Implementation"
   ]
  },
  {
   "cell_type": "code",
   "execution_count": 2,
   "metadata": {},
   "outputs": [],
   "source": [
    "from IPython.display import clear_output\n",
    "import shutil\n",
    "import torch\n",
    "import torch.nn as nn\n",
    "from torch.utils.data import DataLoader, random_split\n",
    "from torchvision import transforms, datasets\n",
    "import torch.nn as nn\n",
    "import torch.optim as optim\n",
    "import numpy as np\n",
    "import matplotlib.pyplot as plt\n",
    "%matplotlib inline"
   ]
  },
  {
   "cell_type": "markdown",
   "metadata": {},
   "source": [
    "## a) Loading dataset / Preprocessing"
   ]
  },
  {
   "cell_type": "markdown",
   "metadata": {},
   "source": [
    "Notice:\n",
    "\n",
    "- Pytorch let us preprocess our data (reshaping, normalizing) while loading our data.\n",
    "- the format used for the image is the following: (n, C, H, W)."
   ]
  },
  {
   "cell_type": "code",
   "execution_count": 3,
   "metadata": {},
   "outputs": [],
   "source": [
    "def load_mnist():\n",
    "    transform = transforms.Compose([transforms.Resize((32,32)),\n",
    "                                    transforms.ToTensor(),\n",
    "                                    transforms.Normalize(mean=[0.5], std=[0.5])])\n",
    "            \n",
    "    train_dataset = datasets.MNIST('./data', train=True, download=True, transform=transform)\n",
    "    test_dataset = datasets.MNIST('./data', train=False, download=True, transform=transform)\n",
    "    \n",
    "    # Clear downloading message.\n",
    "    clear_output()\n",
    "    \n",
    "    # Split dataset into training set and validation set.\n",
    "    train_dataset, val_dataset = random_split(train_dataset, (55000, 5000))\n",
    "    \n",
    "    print(\"Image Shape: {}\".format(train_dataset[0][0].numpy().shape), end = '\\n\\n')\n",
    "    print(\"Training Set:   {} samples\".format(len(train_dataset)))\n",
    "    print(\"Validation Set:   {} samples\".format(len(val_dataset)))\n",
    "    print(\"Test Set:       {} samples\".format(len(test_dataset)))\n",
    "    \n",
    "    # Create iterator.\n",
    "    train_loader = DataLoader(train_dataset, batch_size=128, shuffle=True)\n",
    "    val_loader = DataLoader(val_dataset, batch_size=128, shuffle=True)\n",
    "    test_loader = DataLoader(test_dataset, batch_size=128, shuffle=True)\n",
    "    \n",
    "    # Delete the data/ folder.\n",
    "    shutil.rmtree('./data')\n",
    "    \n",
    "    return (train_loader, val_loader, test_loader)"
   ]
  },
  {
   "cell_type": "code",
   "execution_count": 4,
   "metadata": {
    "scrolled": true
   },
   "outputs": [
    {
     "name": "stdout",
     "output_type": "stream",
     "text": [
      "Image Shape: (1, 32, 32)\n",
      "\n",
      "Training Set:   55000 samples\n",
      "Validation Set:   5000 samples\n",
      "Test Set:       10000 samples\n"
     ]
    }
   ],
   "source": [
    "train_loader, val_loader, test_loader = load_mnist()"
   ]
  },
  {
   "cell_type": "markdown",
   "metadata": {},
   "source": [
    "---  \n",
    " <b>transforms.Normalize(mean=[0.5], std=[0.5])</b> ->  Normalize images over 1 channel in the range [-1,1].\n",
    " \n",
    " $$image[channel] = \\frac{image[channel] - mean[channel]}{std[channel]}$$\n",
    " - <b>PROOF:</b> \n",
    "     - if $image[channel] = 0$ (minimum value) then $\\frac{0 - 0.5}{0.5} = -1$.\n",
    "     - if $image[channel] = 1$ (maximum value) then $\\frac{1 - 0.5}{0.5} = 1$.\n",
    " \n",
    "\n",
    "Thus it normalize images in the range of [-1,1].\n"
   ]
  },
  {
   "cell_type": "markdown",
   "metadata": {},
   "source": [
    "## b) Visualization"
   ]
  },
  {
   "cell_type": "code",
   "execution_count": 5,
   "metadata": {},
   "outputs": [],
   "source": [
    "def plot_example(X, y, y_pred=None):\n",
    "    \"\"\"\n",
    "        Plots 9 examples and their associate labels.\n",
    "        \n",
    "        Parameters:\n",
    "        -X: Training examples.\n",
    "        -y: true labels.\n",
    "        -y_pred: predicted labels.\n",
    "    \"\"\"\n",
    "    # Create figure with 3 x 3 sub-plots.\n",
    "    fig, axes = plt.subplots(3, 3)\n",
    "    fig.subplots_adjust(hspace=0.3, wspace=0.3)\n",
    "     \n",
    "    X, y = X[:9, 0, ...], y[:9] \n",
    "    \n",
    "    for i, ax in enumerate(axes.flat):\n",
    "        # Plot image.\n",
    "        ax.imshow(X[i])\n",
    "\n",
    "        # Show true and predicted classes.\n",
    "        if y_pred is None:\n",
    "            xlabel = \"True: {0}\".format(y[i])\n",
    "        else:\n",
    "            xlabel = \"True: {0}, Pred: {1}\".format(y[i], y_pred[i])\n",
    "\n",
    "        # Show the classes as the label on the x-axis.\n",
    "        ax.set_xlabel(xlabel)\n",
    "        \n",
    "        # Remove ticks from the plot.\n",
    "        ax.set_xticks([])\n",
    "        ax.set_yticks([])\n",
    "    \n",
    "    # Ensure the plot is shown correctly with multiple plots in a single Notebook cell.\n",
    "    plt.show()"
   ]
  },
  {
   "cell_type": "code",
   "execution_count": 6,
   "metadata": {},
   "outputs": [],
   "source": [
    "def plot_example_errors(X, y, y_pred):\n",
    "    \"\"\"\n",
    "        Plots 9 example errors and their associate true/predicted labels.\n",
    "        \n",
    "        Parameters:\n",
    "        -X: Training examples.\n",
    "        -y: true labels.\n",
    "        -y_pred: predicted labels.\n",
    "    \n",
    "    \"\"\"\n",
    "    incorrect = (y != y_pred)\n",
    " \n",
    "    X = X[incorrect]\n",
    "    y = y[incorrect]\n",
    "    y_pred = y_pred[incorrect]\n",
    "    \n",
    "    # Plot the first 9 images.\n",
    "    plot_example(X, y, y_pred)"
   ]
  },
  {
   "cell_type": "code",
   "execution_count": 7,
   "metadata": {},
   "outputs": [
    {
     "data": {
      "image/png": "[encoded data removed]",
      "text/plain": [
       "<Figure size 432x288 with 9 Axes>"
      ]
     },
     "metadata": {},
     "output_type": "display_data"
    }
   ],
   "source": [
    "images, labels = iter(train_loader).next()\n",
    "plot_example(images.numpy(), labels.numpy())"
   ]
  },
  {
   "cell_type": "markdown",
   "metadata": {},
   "source": [
    "## c) Architecture build"
   ]
  },
  {
   "cell_type": "code",
   "execution_count": 8,
   "metadata": {},
   "outputs": [],
   "source": [
    "class LeNet_5(nn.Module):\n",
    "    \n",
    "    def __init__(self):\n",
    "        super(LeNet_5, self).__init__()\n",
    "        \n",
    "        self.C1 = nn.Conv2d(in_channels=1, out_channels=6, kernel_size=(5,5))\n",
    "        self.P1 = nn.AvgPool2d(kernel_size=(2,2), stride=2)\n",
    "        self.C2 = nn.Conv2d(in_channels=6, out_channels=16, kernel_size=(5,5))\n",
    "        self.P2 = nn.AvgPool2d(kernel_size=(2,2), stride=2)\n",
    "\n",
    "        self.FC1 = nn.Linear(in_features=16*5*5, out_features=120)\n",
    "        self.FC2 = nn.Linear(in_features=120, out_features=84)\n",
    "        self.FC3 = nn.Linear(in_features=84, out_features=10)  \n",
    "        \n",
    "        \n",
    "    def forward(self, x):\n",
    "        x = torch.tanh(self.C1(x))\n",
    "        x = self.P1(x)\n",
    "        x = torch.tanh(self.C2(x))\n",
    "        x = self.P2(x)\n",
    "        x = x.view(-1, 16*5*5)\n",
    "        x = torch.tanh(self.FC1(x))\n",
    "        x = torch.tanh(self.FC2(x))\n",
    "        # No need to use softmax because it is already called in\n",
    "        # nn.CrossEntropyLoss().\n",
    "        x = self.FC3(x)\n",
    "    \n",
    "        return x"
   ]
  },
  {
   "cell_type": "code",
   "execution_count": 9,
   "metadata": {
    "scrolled": false
   },
   "outputs": [
    {
     "data": {
      "text/plain": [
       "LeNet_5(\n",
       "  (C1): Conv2d(1, 6, kernel_size=(5, 5), stride=(1, 1))\n",
       "  (P1): AvgPool2d(kernel_size=(2, 2), stride=2, padding=0)\n",
       "  (C2): Conv2d(6, 16, kernel_size=(5, 5), stride=(1, 1))\n",
       "  (P2): AvgPool2d(kernel_size=(2, 2), stride=2, padding=0)\n",
       "  (FC1): Linear(in_features=400, out_features=120, bias=True)\n",
       "  (FC2): Linear(in_features=120, out_features=84, bias=True)\n",
       "  (FC3): Linear(in_features=84, out_features=10, bias=True)\n",
       ")"
      ]
     },
     "execution_count": 9,
     "metadata": {},
     "output_type": "execute_result"
    }
   ],
   "source": [
    "model = LeNet_5()\n",
    "model"
   ]
  },
  {
   "cell_type": "code",
   "execution_count": 10,
   "metadata": {},
   "outputs": [],
   "source": [
    "loss_fct = nn.CrossEntropyLoss()\n",
    "optimizer = optim.Adam(model.parameters(), lr=0.001)"
   ]
  },
  {
   "cell_type": "markdown",
   "metadata": {},
   "source": [
    "## d) Training the model"
   ]
  },
  {
   "cell_type": "code",
   "execution_count": 12,
   "metadata": {
    "scrolled": true
   },
   "outputs": [
    {
     "name": "stdout",
     "output_type": "stream",
     "text": [
      "[Epoch 1/20]: Cost = 0.37060712411306623 | Validation accuracy = 0.9582\n",
      "[Epoch 2/20]: Cost = 0.1070125012680195 | Validation accuracy = 0.9738\n",
      "[Epoch 3/20]: Cost = 0.06885745691698651 | Validation accuracy = 0.9788\n",
      "[Epoch 4/20]: Cost = 0.051722464248061525 | Validation accuracy = 0.9822\n",
      "[Epoch 5/20]: Cost = 0.040230404335442324 | Validation accuracy = 0.9828\n",
      "[Epoch 6/20]: Cost = 0.03434317356955563 | Validation accuracy = 0.9846\n",
      "[Epoch 7/20]: Cost = 0.026722759972759632 | Validation accuracy = 0.984\n",
      "[Epoch 8/20]: Cost = 0.023744260961579722 | Validation accuracy = 0.9846\n",
      "[Epoch 9/20]: Cost = 0.019367040098146642 | Validation accuracy = 0.9848\n",
      "[Epoch 10/20]: Cost = 0.01697237064404045 | Validation accuracy = 0.986\n",
      "[Epoch 11/20]: Cost = 0.012996578585426865 | Validation accuracy = 0.9846\n",
      "[Epoch 12/20]: Cost = 0.011695819533819896 | Validation accuracy = 0.9844\n",
      "[Epoch 13/20]: Cost = 0.011758659754914969 | Validation accuracy = 0.9868\n",
      "[Epoch 14/20]: Cost = 0.009452458950663852 | Validation accuracy = 0.9844\n",
      "[Epoch 15/20]: Cost = 0.011274610554831926 | Validation accuracy = 0.9848\n",
      "[Epoch 16/20]: Cost = 0.00962928191333641 | Validation accuracy = 0.9854\n",
      "[Epoch 17/20]: Cost = 0.007904851233463486 | Validation accuracy = 0.9848\n",
      "[Epoch 18/20]: Cost = 0.008031715627294034 | Validation accuracy = 0.9866\n",
      "[Epoch 19/20]: Cost = 0.007498630628410759 | Validation accuracy = 0.9852\n",
      "[Epoch 20/20]: Cost = 0.004807343823851498 | Validation accuracy = 0.9852\n"
     ]
    }
   ],
   "source": [
    "NB_EPOCHS = 20\n",
    "NB_EXAMPLES = len(train_loader)\n",
    "    \n",
    "for epoch in range(NB_EPOCHS):  \n",
    "    batch_cost = 0\n",
    "    for inputs, labels in train_loader: \n",
    "        \n",
    "        # zero the parameter gradients.\n",
    "        optimizer.zero_grad()\n",
    "\n",
    "        # forward + backward + optimize.\n",
    "        predictions = model(inputs)\n",
    "        loss = loss_fct(predictions, labels)\n",
    "        loss.backward()\n",
    "        optimizer.step()\n",
    "        \n",
    "        #batch_size = inputs.shape[0]\n",
    "        #batch_cost += (loss.data.item() * batch_size)\n",
    "        batch_cost += loss.data.item()\n",
    "        \n",
    "    batch_cost /= NB_EXAMPLES\n",
    "    \n",
    "    correct, total = 0, 0\n",
    "    for inputs, labels in val_loader:\n",
    "        predictions = model(inputs)\n",
    "        # Compute accuracy.\n",
    "        _, predicted = torch.max(predictions.data, 1)\n",
    "        total += labels.size(0)\n",
    "        correct += (predicted == labels).sum().item()\n",
    "    \n",
    "    accuracy =  correct / total\n",
    "    \n",
    "    print(\"[Epoch {}/{}]: Cost = {} | Validation accuracy = {}\".format(epoch+1, NB_EPOCHS, batch_cost, accuracy))"
   ]
  },
  {
   "cell_type": "code",
   "execution_count": 13,
   "metadata": {},
   "outputs": [],
   "source": [
    "# Save our model.\n",
    "torch.save(model.state_dict(), 'lenet5_model')"
   ]
  },
  {
   "cell_type": "markdown",
   "metadata": {},
   "source": [
    "## e) Evaluating the model"
   ]
  },
  {
   "cell_type": "code",
   "execution_count": 17,
   "metadata": {},
   "outputs": [],
   "source": [
    "#Need to display the test accuracy."
   ]
  },
  {
   "cell_type": "code",
   "execution_count": 14,
   "metadata": {},
   "outputs": [
    {
     "data": {
      "text/plain": [
       "<All keys matched successfully>"
      ]
     },
     "execution_count": 14,
     "metadata": {},
     "output_type": "execute_result"
    }
   ],
   "source": [
    "model = LeNet_5()\n",
    "# Load the model back.\n",
    "model.load_state_dict(torch.load('lenet5_model'))"
   ]
  },
  {
   "cell_type": "code",
   "execution_count": 16,
   "metadata": {},
   "outputs": [
    {
     "data": {
      "image/png": "[encoded data removed]",
      "text/plain": [
       "<Figure size 432x288 with 9 Axes>"
      ]
     },
     "metadata": {},
     "output_type": "display_data"
    }
   ],
   "source": [
    "dataiter = iter(test_loader)\n",
    "images, labels = dataiter.next()\n",
    "predictions = model(images)\n",
    "\n",
    "_, predicted = torch.max(predictions, 1)\n",
    "\n",
    "plot_example(images.numpy(), labels.numpy(), predicted.numpy())"
   ]
  },
  {
   "cell_type": "markdown",
   "metadata": {},
   "source": [
    "# III) Conclusion"
   ]
  },
  {
   "cell_type": "markdown",
   "metadata": {},
   "source": [
    "We can conclude that:\n",
    "\n",
    "- The test set error (accuracy) is greater than 0.95% (0.9837%).\n",
    "- It seems to start converging after 10-12 epochs."
   ]
  }
 ],
 "metadata": {
  "kernelspec": {
   "display_name": "pytorch",
   "language": "python",
   "name": "pytorch"
  },
  "language_info": {
   "codemirror_mode": {
    "name": "ipython",
    "version": 3
   },
   "file_extension": ".py",
   "mimetype": "text/x-python",
   "name": "python",
   "nbconvert_exporter": "python",
   "pygments_lexer": "ipython3",
   "version": "3.6.8"
  }
 },
 "nbformat": 4,
 "nbformat_minor": 2
}
