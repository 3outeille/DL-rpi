{
 "cells": [
  {
   "cell_type": "markdown",
   "metadata": {},
   "source": [
    "# I) Summary"
   ]
  },
  {
   "cell_type": "markdown",
   "metadata": {},
   "source": [
    "**DISCLAIMER**: We will use a simplier version of the LeNet-5 than the one in the [paper](http://yann.lecun.com/exdb/publis/pdf/lecun-01a.pdf). (For example, computation on average pooling layers described in the paper are slightly more complex than usual)."
   ]
  },
  {
   "cell_type": "markdown",
   "metadata": {},
   "source": [
    "LeNet-5 has:\n",
    "\n",
    "- 2 Convolutional layers.\n",
    "- 3 Fully connected layers.\n",
    "- 2 Average pooling layers.\n",
    "- Tanh as activation function for hidden layer.\n",
    "- Softmax as activation function for output layer.\n",
    "- 60000 trainable parameters."
   ]
  },
  {
   "cell_type": "markdown",
   "metadata": {},
   "source": [
    "LeNet-5 is:\n",
    "\n",
    "- trained on MNIST dataset (60000 training examples).\n",
    "- trained over 20 epoch.\n",
    "- expected to converge after 10-12 epoch.\n",
    "- expected to have an error rate of 0.95% on test set."
   ]
  },
  {
   "cell_type": "markdown",
   "metadata": {},
   "source": [
    "# II) Implementation"
   ]
  },
  {
   "cell_type": "code",
   "execution_count": 3,
   "metadata": {},
   "outputs": [],
   "source": [
    "from tensorflow.examples.tutorials.mnist import input_data\n",
    "import numpy as np\n",
    "import matplotlib.pyplot as plt\n",
    "import tensorflow as tf\n",
    "\n",
    "%matplotlib inline"
   ]
  },
  {
   "cell_type": "markdown",
   "metadata": {},
   "source": [
    "## a) Loading dataset"
   ]
  },
  {
   "cell_type": "code",
   "execution_count": 6,
   "metadata": {},
   "outputs": [
    {
     "name": "stdout",
     "output_type": "stream",
     "text": [
      "Extracting data/MNIST/train-images-idx3-ubyte.gz\n",
      "Extracting data/MNIST/train-labels-idx1-ubyte.gz\n",
      "Extracting data/MNIST/t10k-images-idx3-ubyte.gz\n",
      "Extracting data/MNIST/t10k-labels-idx1-ubyte.gz\n",
      "\n",
      "Image Shape: (28, 28, 1)\n",
      "\n",
      "Training Set:   55000 samples\n",
      "Validation Set: 5000 samples\n",
      "Test Set:       10000 samples\n"
     ]
    }
   ],
   "source": [
    "mnist = input_data.read_data_sets(\"data/MNIST\", reshape=False)\n",
    "X_train, y_train           = mnist.train.images, mnist.train.labels\n",
    "X_val, y_val = mnist.validation.images, mnist.validation.labels\n",
    "X_test, y_test             = mnist.test.images, mnist.test.labels\n",
    "\n",
    "print()\n",
    "print(\"Image Shape: {}\".format(X_train[0].shape), end = '\\n\\n')\n",
    "print(\"Training Set:   {} samples\".format(len(X_train)))\n",
    "print(\"Validation Set: {} samples\".format(len(X_val)))\n",
    "print(\"Test Set:       {} samples\".format(len(X_test)))"
   ]
  },
  {
   "cell_type": "markdown",
   "metadata": {},
   "source": [
    "## b) Preprocessing"
   ]
  },
  {
   "cell_type": "markdown",
   "metadata": {},
   "source": [
    "We need to:\n",
    "\n",
    "- reshape the image into a 32x32x1 shape.\n",
    "- normalize the dataset."
   ]
  },
  {
   "cell_type": "code",
   "execution_count": 7,
   "metadata": {},
   "outputs": [
    {
     "name": "stdout",
     "output_type": "stream",
     "text": [
      "Updated Image Shape for: \n",
      "\n",
      "-Training set: (55000, 32, 32, 1)\n",
      "-Validation set: (5000, 32, 32, 1)\n",
      "-Test set: (10000, 32, 32, 1)\n"
     ]
    }
   ],
   "source": [
    "# Pad images with 0s\n",
    "X_train = np.pad(X_train, ((0,0),(2,2),(2,2),(0,0)), 'constant')\n",
    "X_val = np.pad(X_val, ((0,0),(2,2),(2,2),(0,0)), 'constant')\n",
    "X_test = np.pad(X_test, ((0,0),(2,2),(2,2),(0,0)), 'constant')\n",
    "\n",
    "print(\"Updated Image Shape for: \", end='\\n\\n')\n",
    "print(\"-Training set: {}\".format(X_train.shape))\n",
    "print(\"-Validation set: {}\".format(X_val.shape))\n",
    "print(\"-Test set: {}\".format(X_test.shape))"
   ]
  },
  {
   "cell_type": "code",
   "execution_count": 8,
   "metadata": {},
   "outputs": [],
   "source": [
    "#Normalization.\n",
    "X_train, X_test = X_train/float(255), X_test/float(255)\n",
    "X_train -= np.mean(X_train)\n",
    "X_test -= np.mean(X_test)"
   ]
  },
  {
   "cell_type": "markdown",
   "metadata": {},
   "source": [
    "## c) Vizualization"
   ]
  },
  {
   "cell_type": "code",
   "execution_count": 9,
   "metadata": {},
   "outputs": [
    {
     "name": "stdout",
     "output_type": "stream",
     "text": [
      "Digit on the image: 7\n"
     ]
    },
    {
     "data": {
      "image/png": "[encoded data removed]",
      "text/plain": [
       "<Figure size 432x288 with 1 Axes>"
      ]
     },
     "metadata": {
      "needs_background": "light"
     },
     "output_type": "display_data"
    }
   ],
   "source": [
    "image = X_train[0, :, :, 0]\n",
    "plt.imshow(image, cmap=\"gray\")\n",
    "print('Digit on the image: ' + str(y_train[0]))"
   ]
  },
  {
   "cell_type": "markdown",
   "metadata": {},
   "source": [
    "## d) Architecture build"
   ]
  },
  {
   "cell_type": "code",
   "execution_count": 10,
   "metadata": {},
   "outputs": [],
   "source": [
    "def create_placeholders():\n",
    "    \"\"\"\n",
    "        Creates the placeholders for the tensorflow session.\n",
    "        \n",
    "        Returns:\n",
    "        -X: placeholder for the data input of shape [None, 32, 32, 1] and dtype \"float\".\n",
    "        -y: placeholder for the input labels of shape [None] and dtype \"float\".\n",
    "    \"\"\"\n",
    "    X = tf.placeholder(tf.float32, (None, 32, 32, 1))\n",
    "    y = tf.placeholder(tf.int32, (None))\n",
    "    \n",
    "    return X, y"
   ]
  },
  {
   "cell_type": "code",
   "execution_count": 11,
   "metadata": {},
   "outputs": [],
   "source": [
    "def initialize_parameters():\n",
    "    \"\"\"\n",
    "        Initializes weights and biases parameters using xavier initialization.\n",
    "        \n",
    "        Returns:\n",
    "        -parameters: A dictionary of tensors containing the weights and biases. \n",
    "    \"\"\"\n",
    "    \n",
    "    C1_w = tf.get_variable(\"C1_w\",shape = [5,5,1,6], initializer = tf.contrib.layers.xavier_initializer())\n",
    "    C2_w = tf.get_variable(\"C2_w\",shape = [5,5,6,16], initializer = tf.contrib.layers.xavier_initializer())\n",
    "    F1_w = tf.get_variable(\"F1_w\",shape = [120,400], initializer = tf.contrib.layers.xavier_initializer())\n",
    "    F2_w = tf.get_variable(\"F2_w\",shape = [84,120], initializer = tf.contrib.layers.xavier_initializer())\n",
    "    F3_w = tf.get_variable(\"F3_w\",shape = [10,84], initializer = tf.contrib.layers.xavier_initializer())\n",
    "    \n",
    "    C1_b = tf.get_variable(\"C1_b\", shape = [6], initializer = tf.zeros_initializer())\n",
    "    C2_b = tf.get_variable(\"C2_b\", shape = [16], initializer = tf.zeros_initializer())\n",
    "    F1_b = tf.get_variable(\"F1_b\", shape = [120], initializer = tf.zeros_initializer())\n",
    "    F2_b = tf.get_variable(\"F2_b\", shape = [84], initializer = tf.zeros_initializer())\n",
    "    F3_b = tf.get_variable(\"F3_b\", shape = [10], initializer = tf.zeros_initializer())\n",
    "    \n",
    "    paremeters = {'C1_w': C1_w, 'C1_b': C1_b,\n",
    "                  'C2_w': C2_w, 'C2_b': C2_b,\n",
    "                  'F1_w': F1_w, 'F1_b': F1_b,\n",
    "                  'F2_w': F2_w, 'F2_b': F2_b,\n",
    "                  'F3_w': F3_w, 'F3_b': F3_b}\n",
    "    \n",
    "    return parameters"
   ]
  },
  {
   "cell_type": "code",
   "execution_count": 12,
   "metadata": {},
   "outputs": [],
   "source": [
    "@tf.function\n",
    "def LeNet_5(X):\n",
    "    \n",
    "    #Create placeholders.\n",
    "    X, y = create_placeholders()\n",
    "    \n",
    "    #Intialize parameters.\n",
    "    parameters = initialize_parameters()\n",
    "    \n",
    "    #Forward propagation.\n",
    "    #(None,32,32,1) -> (None,28,28,6).\n",
    "    C1 = tf.nn.conv2d(X, parameters['C1_w'], strides=[1,1,1,1], padding='SAME') + parameters['C1_b']\n",
    "    A1 = tf.nn.tanh(C1)\n",
    "    #(None,28,28,6) -> (None,14,14,6).\n",
    "    P1 = tf.nn.avg_pool(A1, ksize=(6,2,2,1), strides = (6,2,2,1), padding='SAME')\n",
    "    \n",
    "    #(None,14,14,6) -> (None,10,10,16).\n",
    "    C2 = tf.nn.conv2d(P1, parameters['C2_w'], strides=[1,1,1,1], padding='SAME') + parameters['C2_b']\n",
    "    A2 = tf.nn.tanh(C2)\n",
    "    #(None,10,10,16) -> (None,5,5,16).\n",
    "    P2 = tf.nn.avg_pool(A2, ksize=(16,2,2,1), strides = (16,2,2,1), padding='SAME')\n",
    "    \n",
    "    #(None,5,5,16) -> (None, 400, 1).\n",
    "    P2_flatten = tf.contrib.layers.flatten(P2)\n",
    "    \n",
    "    #(None, 400,1) -> (None,120,1).\n",
    "    F1 = tf.matmul(P2_flatten, parameters['F1_w']) + parameters['F1_b']\n",
    "    A3 = tf.nn.tanh(F1)\n",
    "    \n",
    "    #(None,120,1) -> (None,84,1).\n",
    "    F2 = tf.matmul(A3, parameters['F2_w']) + parameters['F2_b']\n",
    "    A4 = tf.nn.tanh(F2)\n",
    "    \n",
    "    #(None,84,1) -> (None,10,1)\n",
    "    F3 = tf.matmul(A4, parameters['F3_w']) + parameters['F3_b']\n",
    "    \n",
    "    #Loss function.\n",
    "    lr = 0.001\n",
    "    cross_entropy = tf.nn.softmax_cross_entropy_with_logits(logits = F3, labels = tf.one_hot(y, 10))\n",
    "    loss_operation = tf.reduce_mean(cross_entropy)\n",
    "    optimizer = tf.train.AdamOptimizer(learning_rate = lr)\n",
    "    training_operation = optimizer.minimize(loss_operation)"
   ]
  },
  {
   "cell_type": "markdown",
   "metadata": {},
   "source": [
    "# III) Conclusion"
   ]
  },
  {
   "cell_type": "code",
   "execution_count": null,
   "metadata": {},
   "outputs": [],
   "source": []
  }
 ],
 "metadata": {
  "kernelspec": {
   "display_name": "dl-tf1.14",
   "language": "python",
   "name": "dl-tf1.14"
  },
  "language_info": {
   "codemirror_mode": {
    "name": "ipython",
    "version": 3
   },
   "file_extension": ".py",
   "mimetype": "text/x-python",
   "name": "python",
   "nbconvert_exporter": "python",
   "pygments_lexer": "ipython3",
   "version": "3.6.8"
  }
 },
 "nbformat": 4,
 "nbformat_minor": 2
}
