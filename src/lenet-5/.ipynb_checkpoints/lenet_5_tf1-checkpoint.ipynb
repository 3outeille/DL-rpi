{
 "cells": [
  {
   "cell_type": "markdown",
   "metadata": {},
   "source": [
    "# I) Summary"
   ]
  },
  {
   "cell_type": "markdown",
   "metadata": {},
   "source": [
    "**DISCLAIMER**: We will use a simplier version of the LeNet-5 than the one in the [paper](http://yann.lecun.com/exdb/publis/pdf/lecun-01a.pdf). (For example, computation on average pooling layers described in the paper are slightly more complex than usual)."
   ]
  },
  {
   "cell_type": "markdown",
   "metadata": {},
   "source": [
    "LeNet-5 has:\n",
    "\n",
    "- 2 Convolutional layers.\n",
    "- 3 Fully connected layers.\n",
    "- 2 Average pooling layers.\n",
    "- Tanh as activation function for hidden layer.\n",
    "- Softmax as activation function for output layer.\n",
    "- 60000 trainable parameters."
   ]
  },
  {
   "cell_type": "markdown",
   "metadata": {},
   "source": [
    "LeNet-5 is:\n",
    "\n",
    "- trained on MNIST dataset (60000 training examples).\n",
    "- trained over 20 epoch.\n",
    "- expected to converge after 10-12 epoch.\n",
    "- expected to have an error rate of 0.95% on test set."
   ]
  },
  {
   "cell_type": "markdown",
   "metadata": {},
   "source": [
    "# II) Implementation"
   ]
  },
  {
   "cell_type": "code",
   "execution_count": 166,
   "metadata": {
    "scrolled": true
   },
   "outputs": [],
   "source": [
    "from tensorflow.examples.tutorials.mnist import input_data\n",
    "import numpy as np\n",
    "import matplotlib.pyplot as plt\n",
    "import tensorflow as tf\n",
    "%matplotlib inline"
   ]
  },
  {
   "cell_type": "markdown",
   "metadata": {},
   "source": [
    "## a) Loading dataset"
   ]
  },
  {
   "cell_type": "code",
   "execution_count": 167,
   "metadata": {},
   "outputs": [
    {
     "name": "stdout",
     "output_type": "stream",
     "text": [
      "Image Shape: (28, 28, 1)\n",
      "\n",
      "Training Set:   55000 samples\n",
      "Validation Set:   5000 samples\n",
      "Test Set:       10000 samples\n"
     ]
    }
   ],
   "source": [
    "(X_train, y_train), (X_test, y_test) = tf.keras.datasets.mnist.load_data()\n",
    "X_val, y_val = X_train[55000:, ..., np.newaxis], y_train[55000:]\n",
    "X_train, y_train = X_train[:55000, ..., np.newaxis], y_train[:55000]\n",
    "X_test =  X_test[..., np.newaxis]\n",
    "\n",
    "print(\"Image Shape: {}\".format(X_train[0].shape), end = '\\n\\n')\n",
    "print(\"Training Set:   {} samples\".format(len(X_train)))\n",
    "print(\"Validation Set:   {} samples\".format(len(X_val)))\n",
    "print(\"Test Set:       {} samples\".format(len(X_test)))"
   ]
  },
  {
   "cell_type": "markdown",
   "metadata": {},
   "source": [
    "## b) Preprocessing"
   ]
  },
  {
   "cell_type": "markdown",
   "metadata": {},
   "source": [
    "We need to:\n",
    "\n",
    "- reshape the image into a 32x32x1 shape.\n",
    "- normalize the dataset."
   ]
  },
  {
   "cell_type": "code",
   "execution_count": 168,
   "metadata": {},
   "outputs": [
    {
     "name": "stdout",
     "output_type": "stream",
     "text": [
      "Updated Image Shape for: \n",
      "\n",
      "-Training set: (55000, 32, 32, 1)\n",
      "-Validation set: (5000, 32, 32, 1)\n",
      "-Test set: (10000, 32, 32, 1)\n"
     ]
    }
   ],
   "source": [
    "# Pad images with 0s\n",
    "X_train = np.pad(X_train, ((0,0),(2,2),(2,2),(0,0)), 'constant')\n",
    "X_val = np.pad(X_val, ((0,0),(2,2),(2,2),(0,0)), 'constant')\n",
    "X_test = np.pad(X_test, ((0,0),(2,2),(2,2),(0,0)), 'constant')\n",
    "\n",
    "print(\"Updated Image Shape for: \", end='\\n\\n')\n",
    "print(\"-Training set: {}\".format(X_train.shape))\n",
    "print(\"-Validation set: {}\".format(X_val.shape))\n",
    "print(\"-Test set: {}\".format(X_test.shape))"
   ]
  },
  {
   "cell_type": "code",
   "execution_count": 169,
   "metadata": {},
   "outputs": [],
   "source": [
    "#Normalization.\n",
    "X_train, X_val, X_test = X_train/float(255), X_val/float(255), X_test/float(255)\n",
    "X_train -= np.mean(X_train)\n",
    "X_val -= np.mean(X_val)\n",
    "X_test -= np.mean(X_test)"
   ]
  },
  {
   "cell_type": "markdown",
   "metadata": {},
   "source": [
    "## c) Visualization"
   ]
  },
  {
   "cell_type": "code",
   "execution_count": 170,
   "metadata": {},
   "outputs": [],
   "source": [
    "def plot_images(X, y, y_pred=None):\n",
    "    \"\"\"\n",
    "        Plots 9 Plot the 9 images and labels.\n",
    "        \n",
    "        Parameters:\n",
    "        -X: Training examples.\n",
    "        -y: true labels.\n",
    "        -y_pred: predicted labels.\n",
    "    \"\"\"\n",
    "    # Create figure with 3x3 sub-plots.\n",
    "    fig, axes = plt.subplots(3, 3)\n",
    "    fig.subplots_adjust(hspace=0.3, wspace=0.3)\n",
    " \n",
    "    for i, ax in enumerate(axes.flat):\n",
    "        # Plot image.\n",
    "        ax.imshow(X[i])\n",
    "\n",
    "        # Show true and predicted classes.\n",
    "        if y_pred is None:\n",
    "            xlabel = \"True: {0}\".format(y[i])\n",
    "        else:\n",
    "            xlabel = \"True: {0}, Pred: {1}\".format(y[i], y_pred[i])\n",
    "\n",
    "        # Show the classes as the label on the x-axis.\n",
    "        ax.set_xlabel(xlabel)\n",
    "        \n",
    "        # Remove ticks from the plot.\n",
    "        ax.set_xticks([])\n",
    "        ax.set_yticks([])\n",
    "    \n",
    "    # Ensure the plot is shown correctly with multiple plots\n",
    "    # in a single Notebook cell.\n",
    "    plt.show()"
   ]
  },
  {
   "cell_type": "code",
   "execution_count": 171,
   "metadata": {},
   "outputs": [
    {
     "data": {
      "image/png": "[encoded data removed]",
      "text/plain": [
       "<Figure size 432x288 with 9 Axes>"
      ]
     },
     "metadata": {},
     "output_type": "display_data"
    }
   ],
   "source": [
    "plot_images(X_train[0:9, :, :, 0], y_train[0:9])"
   ]
  },
  {
   "cell_type": "markdown",
   "metadata": {},
   "source": [
    "## d) Architecture build"
   ]
  },
  {
   "cell_type": "code",
   "execution_count": 172,
   "metadata": {},
   "outputs": [],
   "source": [
    "def create_placeholders():\n",
    "    \"\"\"\n",
    "        Creates the placeholders for the tensorflow session.\n",
    "        \n",
    "        Returns:\n",
    "        -X: placeholder for the data input of shape [None, 32, 32, 1] and dtype \"float\".\n",
    "        -y: placeholder for the input labels of shape [None] and dtype \"float\".\n",
    "    \"\"\"\n",
    "    X = tf.placeholder(tf.float32, (None, 32, 32, 1), name='X')\n",
    "    y = tf.placeholder(tf.int32, (None), name='labels')\n",
    "\n",
    "    return X, y"
   ]
  },
  {
   "cell_type": "code",
   "execution_count": 173,
   "metadata": {},
   "outputs": [],
   "source": [
    "def initialize_parameters():\n",
    "    \"\"\"\n",
    "        Initializes weights and biases parameters using xavier initialization.\n",
    "        \n",
    "        Returns:\n",
    "        -parameters: A dictionary of tensors containing the weights and biases. \n",
    "    \"\"\"\n",
    "    \n",
    "    C1_w = tf.get_variable(\"C1_w\",shape = [5,5,1,6], initializer = tf.contrib.layers.xavier_initializer())\n",
    "    C2_w = tf.get_variable(\"C2_w\",shape = [5,5,6,16], initializer = tf.contrib.layers.xavier_initializer())\n",
    "    F1_w = tf.get_variable(\"F1_w\",shape = [400,120], initializer = tf.contrib.layers.xavier_initializer())\n",
    "    F2_w = tf.get_variable(\"F2_w\",shape = [120,84], initializer = tf.contrib.layers.xavier_initializer())\n",
    "    F3_w = tf.get_variable(\"F3_w\",shape = [84,10], initializer = tf.contrib.layers.xavier_initializer())\n",
    "\n",
    "    C1_b = tf.get_variable(\"C1_b\", shape = [6], initializer = tf.zeros_initializer())\n",
    "    C2_b = tf.get_variable(\"C2_b\", shape = [16], initializer = tf.zeros_initializer())\n",
    "    F1_b = tf.get_variable(\"F1_b\", shape = [120], initializer = tf.zeros_initializer())\n",
    "    F2_b = tf.get_variable(\"F2_b\", shape = [84], initializer = tf.zeros_initializer())\n",
    "    F3_b = tf.get_variable(\"F3_b\", shape = [10], initializer = tf.zeros_initializer())\n",
    "        \n",
    "    parameters = {'C1_w': C1_w, 'C1_b': C1_b,\n",
    "                  'C2_w': C2_w, 'C2_b': C2_b,\n",
    "                  'F1_w': F1_w, 'F1_b': F1_b,\n",
    "                  'F2_w': F2_w, 'F2_b': F2_b,\n",
    "                  'F3_w': F3_w, 'F3_b': F3_b}\n",
    "    \n",
    "    return parameters"
   ]
  },
  {
   "cell_type": "code",
   "execution_count": 174,
   "metadata": {
    "scrolled": true
   },
   "outputs": [],
   "source": [
    "def forward_propagation(X, parameters):\n",
    "     \n",
    "    #Forward propagation.\n",
    "    \n",
    "    with tf.name_scope('conv1'):\n",
    "        #(None,32,32,1) -> (None,28,28,6).\n",
    "        C1 = tf.nn.conv2d(X, parameters['C1_w'], strides=[1,1,1,1], padding='VALID') + parameters['C1_b']\n",
    "        A1 = tf.nn.tanh(C1)\n",
    "        #(None,28,28,6) -> (None,14,14,6).\n",
    "        P1 = tf.nn.avg_pool(A1, ksize=(1,2,2,1), strides = (1,2,2,1), padding='VALID')\n",
    "   \n",
    "    with tf.name_scope('conv2'):\n",
    "        #(None,14,14,6) -> (None,10,10,16).\n",
    "        C2 = tf.nn.conv2d(P1, parameters['C2_w'], strides=[1,1,1,1], padding='VALID') + parameters['C2_b']\n",
    "        A2 = tf.nn.tanh(C2)\n",
    "        #(None,10,10,16) -> (None,5,5,16).\n",
    "        P2 = tf.nn.avg_pool(A2, ksize=(1,2,2,1), strides = (1,2,2,1), padding='VALID')\n",
    "    \n",
    "    with tf.name_scope('flatten'):\n",
    "        #(None,5,5,16) -> (None, 400, 1).\n",
    "        P2_flatten = tf.contrib.layers.flatten(P2)\n",
    "    \n",
    "    with tf.name_scope('fc1'):\n",
    "        #(None, 400,1) -> (None,120,1).\n",
    "        F1 = tf.matmul(P2_flatten, parameters['F1_w']) + parameters['F1_b']\n",
    "        A3 = tf.nn.tanh(F1)\n",
    "    \n",
    "    with tf.name_scope('fc2'):\n",
    "        #(None,120,1) -> (None,84,1).\n",
    "        F2 = tf.matmul(A3, parameters['F2_w']) + parameters['F2_b']\n",
    "        A4 = tf.nn.tanh(F2)\n",
    "    \n",
    "    with tf.name_scope('fc3'):\n",
    "        #(None,84,1) -> (None,10,1)\n",
    "        F3 = tf.matmul(A4, parameters['F3_w']) + parameters['F3_b']\n",
    "\n",
    "    return F3"
   ]
  },
  {
   "cell_type": "code",
   "execution_count": 175,
   "metadata": {},
   "outputs": [],
   "source": [
    "def compute_cost(y_pred, y):\n",
    "    with tf.name_scope('xent'):\n",
    "        cost = tf.reduce_mean(tf.nn.softmax_cross_entropy_with_logits(logits = y_pred, labels = tf.one_hot(y, 10)))\n",
    "        return cost"
   ]
  },
  {
   "cell_type": "code",
   "execution_count": 184,
   "metadata": {},
   "outputs": [],
   "source": [
    "# def evaluate(X_data, y_data):\n",
    "#         num_examples = len(X_data)\n",
    "#         total_accuracy = 0\n",
    "#         sess = tf.get_default_session()\n",
    "#         for offset in range(0, num_examples, BATCH_SIZE):\n",
    "#             end = offset+BATCH_SIZE\n",
    "#             batch_x, batch_y = X_data[offset:end], y_data[offset:end]\n",
    "#             accuracy = sess.run(accuracy_operation, feed_dict={X: batch_x, y: batch_y})\n",
    "#             total_accuracy += (accuracy * len(batch_x))\n",
    "#         return total_accuracy / num_examples"
   ]
  },
  {
   "cell_type": "code",
   "execution_count": 200,
   "metadata": {},
   "outputs": [],
   "source": [
    "def LeNet_5():\n",
    "    tf.reset_default_graph()\n",
    "    nb_examples = X_train.shape[0]\n",
    "    NB_EPOCHS, BATCH_SIZE, LR = 20, 128, 0.001\n",
    "    nb_batches = int(nb_examples / BATCH_SIZE)\n",
    "    \n",
    "    # Create Placeholders of the correct shape.\n",
    "    X, y = create_placeholders()\n",
    "    \n",
    "    # Initialize parameters.\n",
    "    parameters = initialize_parameters()\n",
    "    \n",
    "    #Build the forward propagation in the tensorflow graph.\n",
    "    y_pred = forward_propagation(X, parameters)\n",
    "    \n",
    "    #Add cost function to tensorflow graph.\n",
    "    cost = compute_cost(y_pred, y)\n",
    "    \n",
    "    #Define the tensorflow optimizer.\n",
    "    with tf.name_scope('train'):\n",
    "        optimizer = tf.train.AdamOptimizer(learning_rate = LR).minimize(cost)\n",
    "    \n",
    "    #\n",
    "    correct_prediction = tf.equal(tf.argmax(y_pred, 1), tf.argmax(tf.one_hot(y, 10), 1))\n",
    "    accuracy_operation = tf.reduce_mean(tf.cast(correct_prediction, tf.float32))\n",
    "    \n",
    "    def evaluate(X_data, y_data):\n",
    "        num_examples = len(X_data)\n",
    "        total_accuracy = 0\n",
    "        sess = tf.get_default_session()\n",
    "        for offset in range(0, num_examples, BATCH_SIZE):\n",
    "            end = offset+BATCH_SIZE\n",
    "            batch_x, batch_y = X_data[offset:end], y_data[offset:end]\n",
    "            accuracy = sess.run(accuracy_operation, feed_dict={X: batch_x, y: batch_y})\n",
    "            total_accuracy += (accuracy * len(batch_x))\n",
    "        return total_accuracy / num_examples\n",
    "    \n",
    "    with tf.Session() as sess:\n",
    "        # Create event file in order to display graph on tensorboard.\n",
    "        #writer = tf.summary.FileWriter(\"logs\", sess.graph)\n",
    "        #writer.close()\n",
    "        \n",
    "        # Initialize all the variables globally.\n",
    "        init = tf.global_variables_initializer()\n",
    "        \n",
    "        # Run the initialization\n",
    "        sess.run(init)\n",
    "\n",
    "        for epoch in range(NB_EPOCHS):\n",
    "\n",
    "            batch_cost, total_accuracy, = 0, 0\n",
    "            \n",
    "            for offset in range(0, nb_examples, BATCH_SIZE):\n",
    "                end = offset + BATCH_SIZE\n",
    "                X_batch, y_batch = X_train[offset:end], y_train[offset:end]\n",
    "                \n",
    "                _,temp_cost = sess.run(fetches = [optimizer,cost], feed_dict={X:X_batch, y:y_batch})\n",
    "               \n",
    "                batch_cost += temp_cost / nb_batches\n",
    "               \n",
    "            val_accuracy = evaluate(X_val, y_val)\n",
    "            print(\"[Epoch {}/{}]: Cost = {} | Validation accuracy = {}\".format(epoch+1, NB_EPOCHS, batch_cost, val_accuracy))\n",
    "    \n",
    "        #Make prediction.\n",
    "        predictions = sess.run(y_pred, feed_dict={X: X_test})\n",
    "        \n",
    "        return predictions"
   ]
  },
  {
   "cell_type": "code",
   "execution_count": 201,
   "metadata": {
    "scrolled": true
   },
   "outputs": [
    {
     "name": "stdout",
     "output_type": "stream",
     "text": [
      "WARNING:tensorflow:Entity <bound method Flatten.call of <tensorflow.python.layers.core.Flatten object at 0x7fa92bb3b898>> could not be transformed and will be executed as-is. Please report this to the AutgoGraph team. When filing the bug, set the verbosity to 10 (on Linux, `export AUTOGRAPH_VERBOSITY=10`) and attach the full output. Cause: converting <bound method Flatten.call of <tensorflow.python.layers.core.Flatten object at 0x7fa92bb3b898>>: AttributeError: module 'gast' has no attribute 'Num'\n",
      "WARNING: Entity <bound method Flatten.call of <tensorflow.python.layers.core.Flatten object at 0x7fa92bb3b898>> could not be transformed and will be executed as-is. Please report this to the AutgoGraph team. When filing the bug, set the verbosity to 10 (on Linux, `export AUTOGRAPH_VERBOSITY=10`) and attach the full output. Cause: converting <bound method Flatten.call of <tensorflow.python.layers.core.Flatten object at 0x7fa92bb3b898>>: AttributeError: module 'gast' has no attribute 'Num'\n"
     ]
    },
    {
     "ename": "KeyboardInterrupt",
     "evalue": "",
     "output_type": "error",
     "traceback": [
      "\u001b[0;31m---------------------------------------------------------------------------\u001b[0m",
      "\u001b[0;31mKeyboardInterrupt\u001b[0m                         Traceback (most recent call last)",
      "\u001b[0;32m<ipython-input-201-dd3ff0bfc317>\u001b[0m in \u001b[0;36m<module>\u001b[0;34m\u001b[0m\n\u001b[0;32m----> 1\u001b[0;31m \u001b[0mpredictions\u001b[0m \u001b[0;34m=\u001b[0m \u001b[0mLeNet_5\u001b[0m\u001b[0;34m(\u001b[0m\u001b[0;34m)\u001b[0m\u001b[0;34m\u001b[0m\u001b[0;34m\u001b[0m\u001b[0m\n\u001b[0m",
      "\u001b[0;32m<ipython-input-200-bf6a590a672d>\u001b[0m in \u001b[0;36mLeNet_5\u001b[0;34m()\u001b[0m\n\u001b[1;32m     55\u001b[0m                 \u001b[0mX_batch\u001b[0m\u001b[0;34m,\u001b[0m \u001b[0my_batch\u001b[0m \u001b[0;34m=\u001b[0m \u001b[0mX_train\u001b[0m\u001b[0;34m[\u001b[0m\u001b[0moffset\u001b[0m\u001b[0;34m:\u001b[0m\u001b[0mend\u001b[0m\u001b[0;34m]\u001b[0m\u001b[0;34m,\u001b[0m \u001b[0my_train\u001b[0m\u001b[0;34m[\u001b[0m\u001b[0moffset\u001b[0m\u001b[0;34m:\u001b[0m\u001b[0mend\u001b[0m\u001b[0;34m]\u001b[0m\u001b[0;34m\u001b[0m\u001b[0;34m\u001b[0m\u001b[0m\n\u001b[1;32m     56\u001b[0m \u001b[0;34m\u001b[0m\u001b[0m\n\u001b[0;32m---> 57\u001b[0;31m                 \u001b[0m_\u001b[0m\u001b[0;34m,\u001b[0m\u001b[0mtemp_cost\u001b[0m \u001b[0;34m=\u001b[0m \u001b[0msess\u001b[0m\u001b[0;34m.\u001b[0m\u001b[0mrun\u001b[0m\u001b[0;34m(\u001b[0m\u001b[0mfetches\u001b[0m \u001b[0;34m=\u001b[0m \u001b[0;34m[\u001b[0m\u001b[0moptimizer\u001b[0m\u001b[0;34m,\u001b[0m\u001b[0mcost\u001b[0m\u001b[0;34m]\u001b[0m\u001b[0;34m,\u001b[0m \u001b[0mfeed_dict\u001b[0m\u001b[0;34m=\u001b[0m\u001b[0;34m{\u001b[0m\u001b[0mX\u001b[0m\u001b[0;34m:\u001b[0m\u001b[0mX_batch\u001b[0m\u001b[0;34m,\u001b[0m \u001b[0my\u001b[0m\u001b[0;34m:\u001b[0m\u001b[0my_batch\u001b[0m\u001b[0;34m}\u001b[0m\u001b[0;34m)\u001b[0m\u001b[0;34m\u001b[0m\u001b[0;34m\u001b[0m\u001b[0m\n\u001b[0m\u001b[1;32m     58\u001b[0m \u001b[0;34m\u001b[0m\u001b[0m\n\u001b[1;32m     59\u001b[0m                 \u001b[0mbatch_cost\u001b[0m \u001b[0;34m+=\u001b[0m \u001b[0mtemp_cost\u001b[0m \u001b[0;34m/\u001b[0m \u001b[0mnb_batches\u001b[0m\u001b[0;34m\u001b[0m\u001b[0;34m\u001b[0m\u001b[0m\n",
      "\u001b[0;32m~/Environements/deep-learning-tf1/lib/python3.6/site-packages/tensorflow/python/client/session.py\u001b[0m in \u001b[0;36mrun\u001b[0;34m(self, fetches, feed_dict, options, run_metadata)\u001b[0m\n\u001b[1;32m    948\u001b[0m     \u001b[0;32mtry\u001b[0m\u001b[0;34m:\u001b[0m\u001b[0;34m\u001b[0m\u001b[0;34m\u001b[0m\u001b[0m\n\u001b[1;32m    949\u001b[0m       result = self._run(None, fetches, feed_dict, options_ptr,\n\u001b[0;32m--> 950\u001b[0;31m                          run_metadata_ptr)\n\u001b[0m\u001b[1;32m    951\u001b[0m       \u001b[0;32mif\u001b[0m \u001b[0mrun_metadata\u001b[0m\u001b[0;34m:\u001b[0m\u001b[0;34m\u001b[0m\u001b[0;34m\u001b[0m\u001b[0m\n\u001b[1;32m    952\u001b[0m         \u001b[0mproto_data\u001b[0m \u001b[0;34m=\u001b[0m \u001b[0mtf_session\u001b[0m\u001b[0;34m.\u001b[0m\u001b[0mTF_GetBuffer\u001b[0m\u001b[0;34m(\u001b[0m\u001b[0mrun_metadata_ptr\u001b[0m\u001b[0;34m)\u001b[0m\u001b[0;34m\u001b[0m\u001b[0;34m\u001b[0m\u001b[0m\n",
      "\u001b[0;32m~/Environements/deep-learning-tf1/lib/python3.6/site-packages/tensorflow/python/client/session.py\u001b[0m in \u001b[0;36m_run\u001b[0;34m(self, handle, fetches, feed_dict, options, run_metadata)\u001b[0m\n\u001b[1;32m   1171\u001b[0m     \u001b[0;32mif\u001b[0m \u001b[0mfinal_fetches\u001b[0m \u001b[0;32mor\u001b[0m \u001b[0mfinal_targets\u001b[0m \u001b[0;32mor\u001b[0m \u001b[0;34m(\u001b[0m\u001b[0mhandle\u001b[0m \u001b[0;32mand\u001b[0m \u001b[0mfeed_dict_tensor\u001b[0m\u001b[0;34m)\u001b[0m\u001b[0;34m:\u001b[0m\u001b[0;34m\u001b[0m\u001b[0;34m\u001b[0m\u001b[0m\n\u001b[1;32m   1172\u001b[0m       results = self._do_run(handle, final_targets, final_fetches,\n\u001b[0;32m-> 1173\u001b[0;31m                              feed_dict_tensor, options, run_metadata)\n\u001b[0m\u001b[1;32m   1174\u001b[0m     \u001b[0;32melse\u001b[0m\u001b[0;34m:\u001b[0m\u001b[0;34m\u001b[0m\u001b[0;34m\u001b[0m\u001b[0m\n\u001b[1;32m   1175\u001b[0m       \u001b[0mresults\u001b[0m \u001b[0;34m=\u001b[0m \u001b[0;34m[\u001b[0m\u001b[0;34m]\u001b[0m\u001b[0;34m\u001b[0m\u001b[0;34m\u001b[0m\u001b[0m\n",
      "\u001b[0;32m~/Environements/deep-learning-tf1/lib/python3.6/site-packages/tensorflow/python/client/session.py\u001b[0m in \u001b[0;36m_do_run\u001b[0;34m(self, handle, target_list, fetch_list, feed_dict, options, run_metadata)\u001b[0m\n\u001b[1;32m   1348\u001b[0m     \u001b[0;32mif\u001b[0m \u001b[0mhandle\u001b[0m \u001b[0;32mis\u001b[0m \u001b[0;32mNone\u001b[0m\u001b[0;34m:\u001b[0m\u001b[0;34m\u001b[0m\u001b[0;34m\u001b[0m\u001b[0m\n\u001b[1;32m   1349\u001b[0m       return self._do_call(_run_fn, feeds, fetches, targets, options,\n\u001b[0;32m-> 1350\u001b[0;31m                            run_metadata)\n\u001b[0m\u001b[1;32m   1351\u001b[0m     \u001b[0;32melse\u001b[0m\u001b[0;34m:\u001b[0m\u001b[0;34m\u001b[0m\u001b[0;34m\u001b[0m\u001b[0m\n\u001b[1;32m   1352\u001b[0m       \u001b[0;32mreturn\u001b[0m \u001b[0mself\u001b[0m\u001b[0;34m.\u001b[0m\u001b[0m_do_call\u001b[0m\u001b[0;34m(\u001b[0m\u001b[0m_prun_fn\u001b[0m\u001b[0;34m,\u001b[0m \u001b[0mhandle\u001b[0m\u001b[0;34m,\u001b[0m \u001b[0mfeeds\u001b[0m\u001b[0;34m,\u001b[0m \u001b[0mfetches\u001b[0m\u001b[0;34m)\u001b[0m\u001b[0;34m\u001b[0m\u001b[0;34m\u001b[0m\u001b[0m\n",
      "\u001b[0;32m~/Environements/deep-learning-tf1/lib/python3.6/site-packages/tensorflow/python/client/session.py\u001b[0m in \u001b[0;36m_do_call\u001b[0;34m(self, fn, *args)\u001b[0m\n\u001b[1;32m   1354\u001b[0m   \u001b[0;32mdef\u001b[0m \u001b[0m_do_call\u001b[0m\u001b[0;34m(\u001b[0m\u001b[0mself\u001b[0m\u001b[0;34m,\u001b[0m \u001b[0mfn\u001b[0m\u001b[0;34m,\u001b[0m \u001b[0;34m*\u001b[0m\u001b[0margs\u001b[0m\u001b[0;34m)\u001b[0m\u001b[0;34m:\u001b[0m\u001b[0;34m\u001b[0m\u001b[0;34m\u001b[0m\u001b[0m\n\u001b[1;32m   1355\u001b[0m     \u001b[0;32mtry\u001b[0m\u001b[0;34m:\u001b[0m\u001b[0;34m\u001b[0m\u001b[0;34m\u001b[0m\u001b[0m\n\u001b[0;32m-> 1356\u001b[0;31m       \u001b[0;32mreturn\u001b[0m \u001b[0mfn\u001b[0m\u001b[0;34m(\u001b[0m\u001b[0;34m*\u001b[0m\u001b[0margs\u001b[0m\u001b[0;34m)\u001b[0m\u001b[0;34m\u001b[0m\u001b[0;34m\u001b[0m\u001b[0m\n\u001b[0m\u001b[1;32m   1357\u001b[0m     \u001b[0;32mexcept\u001b[0m \u001b[0merrors\u001b[0m\u001b[0;34m.\u001b[0m\u001b[0mOpError\u001b[0m \u001b[0;32mas\u001b[0m \u001b[0me\u001b[0m\u001b[0;34m:\u001b[0m\u001b[0;34m\u001b[0m\u001b[0;34m\u001b[0m\u001b[0m\n\u001b[1;32m   1358\u001b[0m       \u001b[0mmessage\u001b[0m \u001b[0;34m=\u001b[0m \u001b[0mcompat\u001b[0m\u001b[0;34m.\u001b[0m\u001b[0mas_text\u001b[0m\u001b[0;34m(\u001b[0m\u001b[0me\u001b[0m\u001b[0;34m.\u001b[0m\u001b[0mmessage\u001b[0m\u001b[0;34m)\u001b[0m\u001b[0;34m\u001b[0m\u001b[0;34m\u001b[0m\u001b[0m\n",
      "\u001b[0;32m~/Environements/deep-learning-tf1/lib/python3.6/site-packages/tensorflow/python/client/session.py\u001b[0m in \u001b[0;36m_run_fn\u001b[0;34m(feed_dict, fetch_list, target_list, options, run_metadata)\u001b[0m\n\u001b[1;32m   1339\u001b[0m       \u001b[0mself\u001b[0m\u001b[0;34m.\u001b[0m\u001b[0m_extend_graph\u001b[0m\u001b[0;34m(\u001b[0m\u001b[0;34m)\u001b[0m\u001b[0;34m\u001b[0m\u001b[0;34m\u001b[0m\u001b[0m\n\u001b[1;32m   1340\u001b[0m       return self._call_tf_sessionrun(\n\u001b[0;32m-> 1341\u001b[0;31m           options, feed_dict, fetch_list, target_list, run_metadata)\n\u001b[0m\u001b[1;32m   1342\u001b[0m \u001b[0;34m\u001b[0m\u001b[0m\n\u001b[1;32m   1343\u001b[0m     \u001b[0;32mdef\u001b[0m \u001b[0m_prun_fn\u001b[0m\u001b[0;34m(\u001b[0m\u001b[0mhandle\u001b[0m\u001b[0;34m,\u001b[0m \u001b[0mfeed_dict\u001b[0m\u001b[0;34m,\u001b[0m \u001b[0mfetch_list\u001b[0m\u001b[0;34m)\u001b[0m\u001b[0;34m:\u001b[0m\u001b[0;34m\u001b[0m\u001b[0;34m\u001b[0m\u001b[0m\n",
      "\u001b[0;32m~/Environements/deep-learning-tf1/lib/python3.6/site-packages/tensorflow/python/client/session.py\u001b[0m in \u001b[0;36m_call_tf_sessionrun\u001b[0;34m(self, options, feed_dict, fetch_list, target_list, run_metadata)\u001b[0m\n\u001b[1;32m   1427\u001b[0m     return tf_session.TF_SessionRun_wrapper(\n\u001b[1;32m   1428\u001b[0m         \u001b[0mself\u001b[0m\u001b[0;34m.\u001b[0m\u001b[0m_session\u001b[0m\u001b[0;34m,\u001b[0m \u001b[0moptions\u001b[0m\u001b[0;34m,\u001b[0m \u001b[0mfeed_dict\u001b[0m\u001b[0;34m,\u001b[0m \u001b[0mfetch_list\u001b[0m\u001b[0;34m,\u001b[0m \u001b[0mtarget_list\u001b[0m\u001b[0;34m,\u001b[0m\u001b[0;34m\u001b[0m\u001b[0;34m\u001b[0m\u001b[0m\n\u001b[0;32m-> 1429\u001b[0;31m         run_metadata)\n\u001b[0m\u001b[1;32m   1430\u001b[0m \u001b[0;34m\u001b[0m\u001b[0m\n\u001b[1;32m   1431\u001b[0m   \u001b[0;32mdef\u001b[0m \u001b[0m_call_tf_sessionprun\u001b[0m\u001b[0;34m(\u001b[0m\u001b[0mself\u001b[0m\u001b[0;34m,\u001b[0m \u001b[0mhandle\u001b[0m\u001b[0;34m,\u001b[0m \u001b[0mfeed_dict\u001b[0m\u001b[0;34m,\u001b[0m \u001b[0mfetch_list\u001b[0m\u001b[0;34m)\u001b[0m\u001b[0;34m:\u001b[0m\u001b[0;34m\u001b[0m\u001b[0;34m\u001b[0m\u001b[0m\n",
      "\u001b[0;31mKeyboardInterrupt\u001b[0m: "
     ]
    }
   ],
   "source": [
    "predictions = LeNet_5()"
   ]
  },
  {
   "cell_type": "code",
   "execution_count": 202,
   "metadata": {},
   "outputs": [
    {
     "data": {
      "image/png": "[encoded data removed]",
      "text/plain": [
       "<Figure size 432x288 with 9 Axes>"
      ]
     },
     "metadata": {},
     "output_type": "display_data"
    }
   ],
   "source": [
    "plot_images(X_test[0:9, :, :, 0], y_test[0:9], np.argmax(predictions, axis=1)[0:9])"
   ]
  },
  {
   "cell_type": "markdown",
   "metadata": {},
   "source": [
    "Display possible errors (youtube channel of the guy)"
   ]
  },
  {
   "cell_type": "markdown",
   "metadata": {},
   "source": [
    "# III) Conclusion"
   ]
  }
 ],
 "metadata": {
  "kernelspec": {
   "display_name": "dl-tf1.14",
   "language": "python",
   "name": "dl-tf1.14"
  },
  "language_info": {
   "codemirror_mode": {
    "name": "ipython",
    "version": 3
   },
   "file_extension": ".py",
   "mimetype": "text/x-python",
   "name": "python",
   "nbconvert_exporter": "python",
   "pygments_lexer": "ipython3",
   "version": "3.6.8"
  }
 },
 "nbformat": 4,
 "nbformat_minor": 2
}
